{
 "cells": [
  {
   "cell_type": "code",
   "execution_count": 1,
   "metadata": {},
   "outputs": [],
   "source": [
    "import pandas as pd\n",
    "import numpy as np\n",
    "import re\n",
    "import matplotlib as mpl\n",
    "import matplotlib.pyplot as plt\n",
    "%matplotlib inline\n",
    "import seaborn as sns\n",
    "import statsmodels.api as sm\n",
    "from sklearn.metrics import mean_squared_error, r2_score\n",
    "from sklearn import linear_model\n",
    "from sklearn.linear_model import LinearRegression, Lasso, Ridge, LassoCV, RidgeCV\n",
    "from sklearn import metrics\n",
    "from sklearn.model_selection import train_test_split, cross_val_score, KFold\n",
    "from sklearn.preprocessing import StandardScaler, PolynomialFeatures\n",
    "from scipy import stats\n",
    "from sklearn import datasets, preprocessing\n",
    "\n",
    "df = pd.read_csv(\"properatti.csv\", encoding = 'latin1')"
   ]
  },
  {
   "cell_type": "code",
   "execution_count": 2,
   "metadata": {},
   "outputs": [],
   "source": [
    "df.columns = ['cod', 'oper', 'tipo', 'local',\n",
    "       'dir', 'pais', 'ciudad', 'geo_id',\n",
    "       'lat-lon', 'lat', 'lon', 'precio', 'moneda',\n",
    "       'p_pesos', 'p_usd', 'sup_m2',\n",
    "       'sup_cub_m2', 'usd_m2', 'pesos_m2', 'piso',\n",
    "       'cuartos', 'expensas', 'url', 'descrip', 'tit',\n",
    "       'foto']"
   ]
  },
  {
   "cell_type": "code",
   "execution_count": 3,
   "metadata": {},
   "outputs": [
    {
     "data": {
      "text/plain": [
       "[3, 5)      20504\n",
       "[1, 3)      19810\n",
       "[5, 7)       5185\n",
       "[7, 10)      1363\n",
       "[10, 50)      528\n",
       "Name: cuartos, dtype: int64"
      ]
     },
     "execution_count": 3,
     "metadata": {},
     "output_type": "execute_result"
    }
   ],
   "source": [
    "bins_cuartos=[1,3,5,7,10,50]\n",
    "cats=pd.cut(df.cuartos,bins_cuartos,right=False)\n",
    "pd.value_counts(cats)"
   ]
  },
  {
   "cell_type": "code",
   "execution_count": 4,
   "metadata": {},
   "outputs": [],
   "source": [
    "df['cuartos'].value_counts(normalize=True,dropna=False);\n",
    "bins_sup=[0,15,30,45,60,100,200,300,500,1000,5000,10000]\n",
    "cats_sup=pd.cut(df.sup_m2,bins_sup,right=False)\n",
    "\n",
    "df['local']=df['local'].fillna('Tigre')"
   ]
  },
  {
   "cell_type": "markdown",
   "metadata": {},
   "source": [
    "## Barrios"
   ]
  },
  {
   "cell_type": "code",
   "execution_count": 5,
   "metadata": {},
   "outputs": [],
   "source": [
    "df['barrio'] = df['dir'].apply( lambda x: x.split(\"|\")[3])\n",
    "df['provincia'] = df['dir'].apply( lambda x: x.split(\"|\")[2])\n",
    "\n",
    "df2 = df.groupby(['barrio','provincia','tipo']) \\\n",
    "       .agg(\n",
    "                count=('dir', 'size'),\n",
    "                price_usd_per_m2_mean=('usd_m2','mean'),\n",
    "                price_usd_per_m2_std=('usd_m2','std'),\n",
    "                price_mean=('precio','mean'),\n",
    "                price_std=('precio','std'),\n",
    "                surface_total_in_m2_mean=('sup_m2','mean'),\n",
    "                surface_total_in_m2_std=('sup_m2','std')\n",
    "            \n",
    "        ) \\\n",
    "       .reset_index() \\\n",
    "       .sort_values(by=['count'], ascending=False);\n",
    "\n",
    "joined_df = pd.merge(df, df2,  how='inner', left_on=['barrio','provincia','tipo'], right_on = ['barrio','provincia','tipo'])\n",
    "\n",
    "joined_df['surface_total_in_m2_diff_std'] = abs((joined_df['sup_m2']-joined_df['surface_total_in_m2_mean']) / joined_df['surface_total_in_m2_std'])\n",
    "joined_df['price_usd_per_m2_diff_std'] = abs((joined_df['usd_m2']-joined_df['price_usd_per_m2_mean']) / joined_df['price_usd_per_m2_std'])\n",
    "\n",
    "aux_df_delete = joined_df[joined_df['surface_total_in_m2_diff_std']>3]\n",
    "joined_df.drop(aux_df_delete.index, inplace=True)\n",
    "aux2_df_delete = joined_df[joined_df['price_usd_per_m2_diff_std']>3]\n",
    "joined_df.drop(aux2_df_delete.index, inplace=True)\n",
    "\n",
    "df = joined_df\n",
    "df.reset_index(inplace=True)"
   ]
  },
  {
   "cell_type": "markdown",
   "metadata": {},
   "source": [
    "## REGEX"
   ]
  },
  {
   "cell_type": "markdown",
   "metadata": {},
   "source": [
    "### Antiguedad"
   ]
  },
  {
   "cell_type": "code",
   "execution_count": 6,
   "metadata": {},
   "outputs": [],
   "source": [
    "patron_estrenos=r'estrenar'\n",
    "regex_estrenos=re.compile(patron_estrenos, flags=re.IGNORECASE)\n",
    "\n",
    "patron_antiguos=r'antiguo'\n",
    "regex_antiguos=re.compile(patron_antiguos, flags=re.IGNORECASE)\n",
    "\n",
    "estados_list=[]\n",
    "for i in range(len(df)):\n",
    "    aux_estrenos=regex_estrenos.findall(df.tit[i])\n",
    "    aux_antiguos=regex_antiguos.findall(df.tit[i])\n",
    "    if len(aux_estrenos)>0:\n",
    "        estados_list.append('estreno')\n",
    "    else:\n",
    "        if len(aux_antiguos)>0:\n",
    "            estados_list.append('antiguo')\n",
    "        else:\n",
    "            estados_list.append('promedio')\n",
    "\n",
    "df['antiguedad']=estados_list"
   ]
  },
  {
   "cell_type": "markdown",
   "metadata": {},
   "source": [
    "### ambientes"
   ]
  },
  {
   "cell_type": "code",
   "execution_count": 7,
   "metadata": {},
   "outputs": [],
   "source": [
    "patron_ambientes = r'(\\d*)\\s*amb+'\n",
    "regex_amb = re.compile(patron_ambientes, flags=re.IGNORECASE)\n",
    "\n",
    "lista_amb=[]\n",
    "aux2=[]\n",
    "for i in df['tit']:\n",
    "    aux2=regex_amb.findall(i)\n",
    "    if len(aux2)>0:\n",
    "        lista_amb.append(aux2[0])\n",
    "    else:\n",
    "        lista_amb.append(np.nan)"
   ]
  },
  {
   "cell_type": "code",
   "execution_count": 8,
   "metadata": {},
   "outputs": [
    {
     "name": "stderr",
     "output_type": "stream",
     "text": [
      "/opt/anaconda3/lib/python3.7/site-packages/pandas/core/ops/__init__.py:1115: FutureWarning: elementwise comparison failed; returning scalar instead, but in the future will perform elementwise comparison\n",
      "  result = method(y)\n"
     ]
    }
   ],
   "source": [
    "pattern_text =r'([a-zA-Z]+)\\*samb+'\n",
    "regex_text=re.compile(pattern_text, flags = re.IGNORECASE)\n",
    "\n",
    "\n",
    "#Si la palabra extraida es 'dos' o 'tres' y le sigue la palabra ambiente:\n",
    "lista_amb2=[]\n",
    "aux_amb2=[]\n",
    "for i in df.tit:\n",
    "    aux_amb2=regex_text.findall(i)\n",
    "    if len(aux_amb2)>0:\n",
    "        lista_amb2.append(aux_amb2[0].lower())\n",
    "    else:\n",
    "        lista_amb2.append(0)\n",
    "\n",
    "lista_amb2=pd.Series(lista_amb2)\n",
    "\n",
    "\n",
    "ambientes2=lista_amb2[lista_amb2=='dos']\n",
    "ambientes3=lista_amb2[lista_amb2=='tres']\n",
    "\n",
    "\n",
    "for i in range(len(lista_amb2)):\n",
    "    if lista_amb2[i]=='dos':\n",
    "        lista_amb[i]=2\n",
    "    elif lista_amb2[i]=='tres':\n",
    "        lista_amb[i]=3\n",
    "\n",
    "df['amb_tit']=lista_amb\n",
    "df['amb_tit']=pd.to_numeric(df['amb_tit']).fillna(0).astype(np.int64)"
   ]
  },
  {
   "cell_type": "markdown",
   "metadata": {},
   "source": [
    "### dormitorios"
   ]
  },
  {
   "cell_type": "code",
   "execution_count": 9,
   "metadata": {},
   "outputs": [],
   "source": [
    "patron_dorm = r'(\\d*)\\s*dorm+'\n",
    "regex_dorm = re.compile(patron_dorm, flags=re.IGNORECASE)\n",
    "lista_dorm=[]\n",
    "aux3=[]\n",
    "for i in df['tit']:\n",
    "    aux3=regex_dorm.findall(i)\n",
    "    if len(aux3)>0:\n",
    "        lista_dorm.append(aux3[0])\n",
    "    else:\n",
    "        lista_dorm.append(np.nan)"
   ]
  },
  {
   "cell_type": "code",
   "execution_count": 10,
   "metadata": {},
   "outputs": [],
   "source": [
    "df['dorm_tit']=lista_dorm\n",
    "df['dorm_tit']=pd.to_numeric(df['dorm_tit']).fillna(0).astype(np.int64)\n",
    "df['dorm_tit'].value_counts(dropna=False);\n",
    "\n",
    "#Se le suma 1 a la informacion conseguida de dormitorios para estimar cantidad de ambientes\n",
    "df['dorm_tit']=df['dorm_tit'].apply(lambda x: x+1 if x>0 else x)"
   ]
  },
  {
   "cell_type": "markdown",
   "metadata": {},
   "source": [
    "### habitaciones"
   ]
  },
  {
   "cell_type": "code",
   "execution_count": 11,
   "metadata": {},
   "outputs": [],
   "source": [
    "#Se busca la cantidad de habitaciones en el tit\n",
    "\n",
    "patron_habit = r'(\\d+)\\s*habit+'\n",
    "regex_habit= re.compile(patron_habit, flags=re.IGNORECASE)\n",
    "lista_habit=[]\n",
    "aux4=[]\n",
    "\n",
    "for i in df['tit']:\n",
    "    aux4=regex_habit.findall(i)\n",
    "    if len(aux4)>0:\n",
    "        lista_habit.append(aux4[0])\n",
    "    else:\n",
    "        lista_habit.append(np.nan)\n",
    "        \n",
    "df['habit_tit']=lista_dorm\n",
    "df['habit_tit']=pd.to_numeric(df['habit_tit']).fillna(0).astype(np.int64)\n",
    "df['habit_tit']=df['habit_tit'].apply(lambda x: x+1 if x>0 else x)"
   ]
  },
  {
   "cell_type": "markdown",
   "metadata": {},
   "source": [
    "### monoambientes"
   ]
  },
  {
   "cell_type": "code",
   "execution_count": 12,
   "metadata": {},
   "outputs": [],
   "source": [
    "pattern_mono =r'mono+\\s*amb+'\n",
    "regex_mono=re.compile(pattern_mono, flags = re.IGNORECASE)\n",
    "\n",
    "lista_monoamb=[]\n",
    "for i in range(len(df.tit)):\n",
    "    aux_monoamb=regex_mono.findall(df.tit[i])\n",
    "    if len(aux_monoamb)>0:\n",
    "        lista_monoamb.append(True)\n",
    "        lista_amb[i]=1\n",
    "    else:\n",
    "        lista_monoamb.append(False)\n",
    "        \n",
    "serie_gen=pd.Series(lista_monoamb)"
   ]
  },
  {
   "cell_type": "markdown",
   "metadata": {},
   "source": [
    "## Amenities"
   ]
  },
  {
   "cell_type": "code",
   "execution_count": 13,
   "metadata": {},
   "outputs": [],
   "source": [
    "patron_baños=r'(\\d+) baÃ±o'\n",
    "regex_baños=re.compile(patron_baños, flags=re.IGNORECASE)\n",
    "\n",
    "baños=[];parrillas=[];piletas=[];cocheras=[];en_suite=[]\n",
    "\n",
    "for i in range(len(df)):\n",
    "    \n",
    "#    aux=regex_baños.findall(str(df.descrip[i]))\n",
    "#   if len(aux)>0:\n",
    "#        baños.append(int(max(aux)))\n",
    "#    else:\n",
    "#        baños.append(1)\n",
    "        \n",
    "    if 'parrilla' in str(df.descrip[i]):\n",
    "        parrillas.append(1)\n",
    "    else:\n",
    "        parrillas.append(0)\n",
    "        \n",
    "    if 'cochera' in str(df.descrip[i]):\n",
    "        cocheras.append(1)\n",
    "    else:\n",
    "        cocheras.append(0)\n",
    "    \n",
    "    if 'pileta' in str(df.descrip[i]) or 'piscina' in str(df.descrip[i]):\n",
    "        piletas.append(1)\n",
    "    else:\n",
    "        piletas.append(0)\n",
    "    \n",
    "    if 'en suite'in str(df.descrip[i]):\n",
    "        en_suite.append(1)\n",
    "    else:\n",
    "        en_suite.append(0)\n",
    "\n",
    "#df['baños']=baños\n",
    "df['cocheras']=cocheras\n",
    "df['parrillas']=parrillas\n",
    "df['piletas']=piletas\n",
    "df['en_suite']=en_suite"
   ]
  },
  {
   "cell_type": "markdown",
   "metadata": {},
   "source": [
    "### ambientes-cuartos"
   ]
  },
  {
   "cell_type": "code",
   "execution_count": 14,
   "metadata": {},
   "outputs": [],
   "source": [
    "df['amb_cuartos']=df['cuartos'].apply(lambda x: x+1 if x>0 else x)"
   ]
  },
  {
   "cell_type": "markdown",
   "metadata": {},
   "source": [
    "### armado de ambientes"
   ]
  },
  {
   "cell_type": "code",
   "execution_count": 15,
   "metadata": {},
   "outputs": [],
   "source": [
    "df['amb_tit']=df['amb_tit'].apply(lambda x: np.nan if x==0 else x)\n",
    "df['amb_tit']=df['amb_tit'].fillna(df['dorm_tit'])\n",
    "df['amb_tit']=df['amb_tit'].apply(lambda x: np.nan if x==0 else x)\n",
    "df['amb_tit']=df['amb_tit'].fillna(df['habit_tit'])\n",
    "df['amb_tit']=df['amb_tit'].apply(lambda x: np.nan if x==0 else x)\n",
    "df['amb_tit']=df['amb_tit'].fillna(df['amb_cuartos'])\n",
    "df['amb_tit'].value_counts(dropna=False);\n",
    "\n",
    "df['amb_tit']=df['amb_tit'].apply(lambda x: 0 if x > 7 else x)"
   ]
  },
  {
   "cell_type": "code",
   "execution_count": 16,
   "metadata": {},
   "outputs": [],
   "source": [
    "df['amb_tit'].value_counts(dropna=False);\n",
    "df['amb_tit'].fillna(np.nan).value_counts(dropna=False);"
   ]
  },
  {
   "cell_type": "markdown",
   "metadata": {},
   "source": [
    "## m2"
   ]
  },
  {
   "cell_type": "code",
   "execution_count": 17,
   "metadata": {},
   "outputs": [],
   "source": [
    "superificies_no_nulas=df.loc[df['sup_m2'].notnull()&df['sup_cub_m2'].notnull(),['sup_m2','sup_cub_m2']]\n",
    "factor_m2=superificies_no_nulas['sup_m2']/superificies_no_nulas['sup_cub_m2'].astype(np.int64)\n",
    "factor_m2.value_counts(normalize=True);\n",
    "\n",
    "factor_mediana=factor_m2.median()\n",
    "df['sup_m2']=df['sup_m2'].apply(lambda x: np.nan if x==0 else x)\n",
    "df['sup_m2']=df['sup_m2'].fillna(df['sup_cub_m2']*factor_mediana)"
   ]
  },
  {
   "cell_type": "code",
   "execution_count": 18,
   "metadata": {},
   "outputs": [],
   "source": [
    "m2_amb = df[df.amb_tit!=0].groupby(['amb_tit'])['sup_m2'].mean()\n",
    "df['sup_m2_prom'] = df.groupby(['amb_tit'])['sup_m2'].transform('mean')"
   ]
  },
  {
   "cell_type": "code",
   "execution_count": 19,
   "metadata": {},
   "outputs": [],
   "source": [
    "#esto tiene sentido rellenarlo?\n",
    "df['sup_m2']=df['sup_m2'].fillna(df['sup_m2_prom'])"
   ]
  },
  {
   "cell_type": "markdown",
   "metadata": {},
   "source": [
    "## Precio m2"
   ]
  },
  {
   "cell_type": "code",
   "execution_count": 20,
   "metadata": {},
   "outputs": [],
   "source": [
    "#llena algo???\n",
    "\n",
    "df['usd_m2_aux']=df.p_usd/df.sup_m2\n",
    "df['usd_m2']=df['usd_m2'].fillna(df['usd_m2_aux'])"
   ]
  },
  {
   "cell_type": "code",
   "execution_count": 21,
   "metadata": {},
   "outputs": [],
   "source": [
    "#Se genera un campo auxiliar con el promedio en usd/m2 por cantidad de ambientes y ubicacion\n",
    "df['usd_m2_dir']=df.groupby(['amb_tit','provincia','barrio'])['usd_m2'].transform('mean')"
   ]
  },
  {
   "cell_type": "code",
   "execution_count": 22,
   "metadata": {},
   "outputs": [],
   "source": [
    "#Se completan los nulos de usd/m2 con el promedio en usd/m2 por cantidad de ambientes y ubicacion\n",
    "df['usd_m2']=df['usd_m2'].fillna(df['usd_m2_dir'])"
   ]
  },
  {
   "cell_type": "code",
   "execution_count": 23,
   "metadata": {},
   "outputs": [],
   "source": [
    "#Se genera una columna auxiliar de precio total en dolares con la nueva informacion de usd/m2 multiplicada por la nueva informacion de superficie por m2\n",
    "df['p_usd_aux']=df.usd_m2*df.sup_m2\n",
    "df['p_usd']=df['p_usd'].fillna(df['p_usd_aux'])"
   ]
  },
  {
   "cell_type": "markdown",
   "metadata": {},
   "source": [
    "# desafio 2"
   ]
  },
  {
   "cell_type": "code",
   "execution_count": 24,
   "metadata": {},
   "outputs": [],
   "source": [
    "df = df \\\n",
    "    .drop('cod', 1) \\\n",
    "    .drop('oper', 1) \\\n",
    "    .drop('pais', 1) \\\n",
    "    .drop('p_pesos', 1) \\\n",
    "    .drop('moneda', 1) \\\n",
    "    .drop('pesos_m2', 1) \\\n",
    "    .drop('precio', 1)\\\n",
    "    .drop('url', 1) \\\n",
    "    .drop('expensas', 1)\\\n",
    "    .drop('foto', 1)\\\n",
    "    .drop('dorm_tit', 1)\\\n",
    "    .drop('habit_tit', 1)\\\n",
    "    .drop('amb_cuartos', 1)\\\n",
    "    .drop('sup_m2_prom', 1)\\\n",
    "    .drop('usd_m2_aux', 1)\\\n",
    "    .drop('usd_m2_dir', 1)\\\n",
    "    .drop('p_usd_aux',1)"
   ]
  },
  {
   "cell_type": "code",
   "execution_count": 25,
   "metadata": {},
   "outputs": [],
   "source": [
    "df['sup_desc_m2']=df['sup_m2']-df['sup_cub_m2']\n",
    "df['sup_desc_m2']=df['sup_desc_m2'].apply(lambda x: 0 if x < 0 else x)"
   ]
  },
  {
   "cell_type": "code",
   "execution_count": 26,
   "metadata": {},
   "outputs": [
    {
     "data": {
      "image/png": "[encoded data removed]",
      "text/plain": [
       "<Figure size 432x288 with 1 Axes>"
      ]
     },
     "metadata": {
      "needs_background": "light"
     },
     "output_type": "display_data"
    }
   ],
   "source": [
    "df[['usd_m2','sup_m2','sup_cub_m2','sup_desc_m2']].plot(kind = 'box',logy=True)\n",
    "plt.show()"
   ]
  },
  {
   "cell_type": "markdown",
   "metadata": {},
   "source": [
    "Limpieza de outliers box plot"
   ]
  },
  {
   "cell_type": "code",
   "execution_count": 27,
   "metadata": {},
   "outputs": [],
   "source": [
    "lim_sup_usd=4000\n",
    "lim_inf_usd=500\n",
    "lim_sup_m2=400\n",
    "lim_inf_m2=20\n",
    "lim_sup_m2_cub=350\n",
    "lim_inf_m2_cub=15\n",
    "lim_sup_m2_desc=50\n",
    "lim_inf_m2_desc=5\n",
    "\n",
    "df['usd_m2']=df['usd_m2'].apply(lambda x: np.nan if x > lim_sup_usd else x)\n",
    "df['usd_m2']=df['usd_m2'].apply(lambda x: np.nan if x < lim_inf_usd else x)\n",
    "\n",
    "df['sup_m2']=df['sup_m2'].apply(lambda x: np.nan if x > lim_sup_m2 else x)\n",
    "df['sup_m2']=df['sup_m2'].apply(lambda x: np.nan if x < lim_inf_m2 else x)\n",
    "\n",
    "df['sup_cub_m2']=df['sup_cub_m2'].apply(lambda x: np.nan if x > lim_sup_m2_cub else x)\n",
    "df['sup_cub_m2']=df['sup_cub_m2'].apply(lambda x: np.nan if x < lim_inf_m2_cub else x)\n",
    "\n",
    "df['sup_desc_m2']=df['sup_desc_m2'].apply(lambda x: np.nan if x > lim_sup_m2_desc else x)\n",
    "df['sup_desc_m2']=df['sup_desc_m2'].apply(lambda x: np.nan if x < lim_inf_m2_desc else x)"
   ]
  },
  {
   "cell_type": "code",
   "execution_count": 28,
   "metadata": {},
   "outputs": [
    {
     "data": {
      "image/png": "[encoded data removed]",
      "text/plain": [
       "<Figure size 432x288 with 1 Axes>"
      ]
     },
     "metadata": {
      "needs_background": "light"
     },
     "output_type": "display_data"
    }
   ],
   "source": [
    "df[['usd_m2','sup_m2','sup_cub_m2','sup_desc_m2']].plot(kind = 'box',logy=True)\n",
    "plt.show()"
   ]
  },
  {
   "cell_type": "code",
   "execution_count": 29,
   "metadata": {},
   "outputs": [],
   "source": [
    "df=df[['tipo', 'local', 'dir', 'ciudad','sup_m2','sup_cub_m2','sup_desc_m2','usd_m2','barrio', 'provincia', 'amb_tit','descrip',\n",
    "       'tit','geo_id', 'lat-lon', 'lat', 'lon','antiguedad','p_usd','en_suite','parrillas','piletas','cocheras']]"
   ]
  },
  {
   "cell_type": "code",
   "execution_count": 30,
   "metadata": {},
   "outputs": [],
   "source": [
    "df.dropna(subset=['usd_m2'], inplace=True)\n",
    "df.dropna(subset=['sup_m2'], inplace=True)\n",
    "df.dropna(subset=['sup_cub_m2'], inplace=True)\n",
    "df.dropna(subset=['sup_desc_m2'], inplace=True)\n",
    "df.dropna(subset=['amb_tit'], inplace=True)\n",
    "df.dropna(subset=['barrio'], inplace=True)\n",
    "df.dropna(subset=['p_usd'], inplace=True)"
   ]
  },
  {
   "cell_type": "markdown",
   "metadata": {},
   "source": [
    "Se restringe el df a CABA"
   ]
  },
  {
   "cell_type": "code",
   "execution_count": 31,
   "metadata": {},
   "outputs": [],
   "source": [
    "df = df.loc[df['ciudad']=='Capital Federal']"
   ]
  },
  {
   "cell_type": "code",
   "execution_count": 32,
   "metadata": {},
   "outputs": [],
   "source": [
    "df.loc[df['tipo']=='store']=np.nan\n",
    "df.dropna(subset=['tipo'], inplace=True)"
   ]
  },
  {
   "cell_type": "code",
   "execution_count": 33,
   "metadata": {},
   "outputs": [],
   "source": [
    "#fig, ax = plt.subplots(figsize=(10,10))       \n",
    "#sns.heatmap(df.corr() , square=True, annot=True, ax=ax,cmap=\"YlGnBu\", cbar=False);"
   ]
  },
  {
   "cell_type": "code",
   "execution_count": 34,
   "metadata": {},
   "outputs": [],
   "source": [
    "# Se convierten en \"Otros\" los barrios sin referencia\n",
    "df['barrio']=df['barrio'].apply(lambda x: 'Otros' if x==\"\" else x)"
   ]
  },
  {
   "cell_type": "code",
   "execution_count": 35,
   "metadata": {},
   "outputs": [],
   "source": [
    "#ver porque no funciona el casteo menor a 5%\n",
    "\n",
    "#df['barrio_aux']=df.groupby(['barrio'])['barrio'].transform('count')/len(df['barrio'])\n",
    "#df['barrio']=df['barrio'].apply(lambda x: 'otros' if df['barrio_aux'] < 0.05 else x)"
   ]
  },
  {
   "cell_type": "markdown",
   "metadata": {},
   "source": [
    "### Dummies"
   ]
  },
  {
   "cell_type": "code",
   "execution_count": 36,
   "metadata": {},
   "outputs": [],
   "source": [
    "barrio_dummies = pd.get_dummies(df.barrio, prefix='barrio', prefix_sep='_', drop_first=True)\n",
    "df=pd.concat([df,barrio_dummies],axis=1)\n",
    "\n",
    "tipo_dummies = pd.get_dummies(df.tipo, prefix='tipo', prefix_sep='_', drop_first=True)\n",
    "df=pd.concat([df,tipo_dummies],axis=1)\n",
    "\n",
    "tipo_dummies = pd.get_dummies(df.antiguedad, prefix='antig', prefix_sep='_', drop_first=True)\n",
    "df=pd.concat([df,tipo_dummies],axis=1)"
   ]
  },
  {
   "cell_type": "code",
   "execution_count": 37,
   "metadata": {},
   "outputs": [],
   "source": [
    "#df.describe()\n",
    "#df.corr()"
   ]
  },
  {
   "cell_type": "markdown",
   "metadata": {},
   "source": [
    "## Distancia al subte"
   ]
  },
  {
   "cell_type": "code",
   "execution_count": 38,
   "metadata": {},
   "outputs": [],
   "source": [
    "estaciones = pd.read_csv('estaciones-de-subte.csv')\n",
    "\n",
    "class LatLon:\n",
    "   def __init__(self, lat, long):\n",
    "       self.lat = lat \n",
    "       self.long = long\n",
    "\n",
    "    \n",
    "estaciones = [(LatLon(row.lat,row.long)) for index, row in estaciones.iterrows() ]  \n",
    "\n",
    "def haversine_distance(lat1, lon1, lat2, lon2):\n",
    "    r = 6371\n",
    "    phi1 = np.radians(lat1)\n",
    "    phi2 = np.radians(lat2)\n",
    "    delta_phi = np.radians(lat2 - lat1)\n",
    "    delta_lambda = np.radians(lon2 - lon1)\n",
    "    a = np.sin(delta_phi / 2)**2 + np.cos(phi1) * np.cos(phi2) *   np.sin(delta_lambda / 2)**2\n",
    "    res = r * (2 * np.arctan2(np.sqrt(a), np.sqrt(1 - a)))\n",
    "    return np.round(res, 2)\n",
    "\n",
    "\n",
    "def min_dist_subte(lat, long):\n",
    "    aux = min(map(lambda e: haversine_distance(lat, long, e.lat, e.long), estaciones))\n",
    "    return aux if aux < 100 * 1000 else np.nan\n",
    "\n",
    "vect_min_dist_subte = np.vectorize(min_dist_subte)\n",
    "df['dist_subte'] = vect_min_dist_subte(df.lat, df.lon)\n",
    "\n",
    "# df.reset_index(inplace=True)\n",
    "# min=[100000]*len(df)\n",
    "# for i in range(len(df)):\n",
    "#     for j in range(len(estaciones)):\n",
    "#         aux=haversine_distance(df.lat[i], df.lon[i], estaciones.lat[j], estaciones.long[j])\n",
    "#         if aux < min[i]:\n",
    "#             min[i]=aux\n",
    "#     if min[i]==100000:\n",
    "#         min[i]=np.nan\n",
    "# df['dist_subte']=min\n"
   ]
  },
  {
   "cell_type": "code",
   "execution_count": 39,
   "metadata": {},
   "outputs": [],
   "source": [
    "# print(len(df[df['dist_subte'].isnull()]))\n",
    "# print(len(df[df['dist_subte'].isnull() == False]))\n",
    "# print(len(df[df.dist_subte!=np.nan]))\n",
    "# print(len(df))\n",
    "\n",
    "# df_mean_por_barrio = df[df['dist_subte'].isnull() == False].groupby(['barrio'])['dist_subte'].mean()\n",
    "# display(df_mean_por_barrio)\n",
    "\n",
    "# df['dist_subte_aux'] = df_mean_por_barrio\n",
    "# df['dist_subte'].fillna(df.dist_subte_aux,inplace=True)\n",
    "\n",
    "df = df[df['dist_subte'].isnull() == False]"
   ]
  },
  {
   "cell_type": "code",
   "execution_count": null,
   "metadata": {},
   "outputs": [],
   "source": []
  },
  {
   "cell_type": "code",
   "execution_count": 40,
   "metadata": {},
   "outputs": [],
   "source": [
    "#df[df.baños>5]"
   ]
  },
  {
   "cell_type": "markdown",
   "metadata": {},
   "source": [
    "# Features 1"
   ]
  },
  {
   "cell_type": "markdown",
   "metadata": {},
   "source": [
    "Variables cuantitativas"
   ]
  },
  {
   "cell_type": "code",
   "execution_count": 41,
   "metadata": {},
   "outputs": [],
   "source": [
    "y = df['usd_m2']\n",
    "X = df[['sup_cub_m2', 'sup_desc_m2', 'amb_tit']]"
   ]
  },
  {
   "cell_type": "markdown",
   "metadata": {},
   "source": [
    "### Split 1"
   ]
  },
  {
   "cell_type": "code",
   "execution_count": 42,
   "metadata": {},
   "outputs": [],
   "source": [
    "Xtrain, Xtest, ytrain, ytest = train_test_split(X, y, test_size=0.25, random_state=1)"
   ]
  },
  {
   "cell_type": "markdown",
   "metadata": {},
   "source": [
    "Se normalizan los features = Xtrain (.fit_transform) y Xtest (.transform)"
   ]
  },
  {
   "cell_type": "code",
   "execution_count": 43,
   "metadata": {},
   "outputs": [],
   "source": [
    "stdscaler = preprocessing.StandardScaler()\n",
    "Xtrains = stdscaler.fit_transform(Xtrain)\n",
    "Xtests = stdscaler.transform(Xtest)"
   ]
  },
  {
   "cell_type": "markdown",
   "metadata": {},
   "source": [
    "### Regresion lineal 1"
   ]
  },
  {
   "cell_type": "code",
   "execution_count": 44,
   "metadata": {},
   "outputs": [
    {
     "name": "stdout",
     "output_type": "stream",
     "text": [
      "MAE: 511.6849258007964\n",
      "MSE: 407170.6717793021\n",
      "RMSE: 638.0992648321279\n",
      "R2: 0.048649848588433575\n",
      "sup_cub_m2, sup_desc_m2, amb_tit\n",
      "intercepto:  2259.697130446824\n",
      "coeficientes:  [  -5.44804477 -133.50262616   25.22759097]\n"
     ]
    },
    {
     "data": {
      "image/png": "[encoded data removed]",
      "text/plain": [
       "<Figure size 432x288 with 1 Axes>"
      ]
     },
     "metadata": {
      "needs_background": "light"
     },
     "output_type": "display_data"
    }
   ],
   "source": [
    "lm = LinearRegression(fit_intercept=True) #instanciacion\n",
    "lm.fit(Xtrains, ytrain)                   #entrenamiento\n",
    "ypred = lm.predict(Xtests)                #predicciones\n",
    "\n",
    "#Metricas\n",
    "print ('MAE:', metrics.mean_absolute_error(ytest, ypred))\n",
    "print ('MSE:', metrics.mean_squared_error(ytest, ypred))\n",
    "print ('RMSE:', np.sqrt(metrics.mean_squared_error(ytest, ypred)))\n",
    "print ('R2:', metrics.r2_score(ytest, ypred))\n",
    "\n",
    "print('sup_cub_m2, sup_desc_m2, amb_tit')\n",
    "print('intercepto: ',lm.intercept_)\n",
    "print('coeficientes: ',lm.coef_)\n",
    "\n",
    "plt.plot(y,y, '-.',c='grey')\n",
    "plt.scatter(ypred, ytest, s=30, c='b', marker='+', zorder=10)\n",
    "plt.xlabel(\"Predicciones\")\n",
    "plt.ylabel(\"Valores reales\")\n",
    "plt.show()"
   ]
  },
  {
   "cell_type": "markdown",
   "metadata": {},
   "source": [
    "## Ridge 1"
   ]
  },
  {
   "cell_type": "code",
   "execution_count": 45,
   "metadata": {},
   "outputs": [
    {
     "name": "stdout",
     "output_type": "stream",
     "text": [
      "RMSE: 638.1039976826471\n",
      "R2: 0.04863573600437543\n",
      "alfa:  10.0\n",
      "sup_cub_m2, sup_desc_m2, amb_tit\n",
      "intercepto:  2259.697130446824\n",
      "coeficientes:  [  -5.51551519 -133.21225183   25.15475823]\n"
     ]
    },
    {
     "data": {
      "image/png": "[encoded data removed]",
      "text/plain": [
       "<Figure size 432x288 with 1 Axes>"
      ]
     },
     "metadata": {
      "needs_background": "light"
     },
     "output_type": "display_data"
    }
   ],
   "source": [
    "lm_ridge =  linear_model.RidgeCV(alphas=[0.5, 1, 10],cv=5, normalize=False) # instanciacion\n",
    "modelo_2 = lm_ridge.fit(Xtrains, ytrain)                                    # fiteo\n",
    "ypred_modelo_2=lm_ridge.predict(Xtests)                                     # predicciones\n",
    "\n",
    "#Metricas\n",
    "print ('RMSE:', np.sqrt(metrics.mean_squared_error(ytest, ypred_modelo_2)))\n",
    "print ('R2:', metrics.r2_score(ytest, ypred_modelo_2))\n",
    "print('alfa: ',lm_ridge.alpha_)\n",
    "\n",
    "#Parametros\n",
    "print('sup_cub_m2, sup_desc_m2, amb_tit')\n",
    "print('intercepto: ',lm_ridge.intercept_)\n",
    "print('coeficientes: ',lm_ridge.coef_)\n",
    "\n",
    "# Graficamos el modelo\n",
    "plt.plot(y,y, '-.',c='grey')\n",
    "plt.scatter(ypred, ytest, s=30, c='b', marker='+', zorder=10)\n",
    "plt.xlabel(\"Predicciones\")\n",
    "plt.ylabel(\"Valores reales\")\n",
    "plt.show()"
   ]
  },
  {
   "cell_type": "markdown",
   "metadata": {},
   "source": [
    "## Lasso 1"
   ]
  },
  {
   "cell_type": "code",
   "execution_count": 46,
   "metadata": {},
   "outputs": [
    {
     "name": "stdout",
     "output_type": "stream",
     "text": [
      "RMSE: 638.1487143541124\n",
      "R2: 0.048502393057136994\n",
      "alfa:  1.0\n",
      "intercepto:  2259.697130446824\n",
      "coeficientes:  [  -3.33643651 -132.83824442   22.8448586 ]\n"
     ]
    },
    {
     "data": {
      "image/png": "[encoded data removed]",
      "text/plain": [
       "<Figure size 432x288 with 1 Axes>"
      ]
     },
     "metadata": {
      "needs_background": "light"
     },
     "output_type": "display_data"
    }
   ],
   "source": [
    "lm_lasso =  linear_model.LassoCV(alphas=[0.5, 1, 10],cv=5, normalize=False) # Instanciacion\n",
    "modelo_3 = lm_lasso.fit(Xtrains, ytrain)                                    # entrenamiento\n",
    "ypred_modelo_3=lm_lasso.predict(Xtests)                                     # Predicciones\n",
    "\n",
    "#Metricas\n",
    "print ('RMSE:', np.sqrt(metrics.mean_squared_error(ytest, ypred_modelo_3)))\n",
    "print ('R2:', metrics.r2_score(ytest, ypred_modelo_3))\n",
    "print('alfa: ',lm_lasso.alpha_)\n",
    "\n",
    "#Parametros\n",
    "print('intercepto: ',lm_lasso.intercept_)\n",
    "print('coeficientes: ',lm_lasso.coef_)\n",
    "\n",
    "# Graficamos el modelo\n",
    "plt.plot(y,y, '-.',c='grey')\n",
    "plt.scatter(ypred, ytest, s=30, c='b', marker='+', zorder=10)\n",
    "plt.xlabel(\"Predicciones\")\n",
    "plt.ylabel(\"Valores reales\")\n",
    "plt.show()"
   ]
  },
  {
   "cell_type": "markdown",
   "metadata": {},
   "source": [
    "## Comparacion de modelos 1"
   ]
  },
  {
   "cell_type": "code",
   "execution_count": 47,
   "metadata": {},
   "outputs": [
    {
     "name": "stdout",
     "output_type": "stream",
     "text": [
      " Score Train Lineal: 0.0414\n",
      " Score Train Ridge : 0.0414\n",
      " Score Train Lasso : 0.0414\n",
      "\n",
      " Score Test Lineal: 0.0486\n",
      " Score Test Ridge : 0.0486\n",
      " Score Test Lasso : 0.0485\n",
      "\n"
     ]
    }
   ],
   "source": [
    "print(\" Score Train Lineal: %.4f\\n\" % lm.score(Xtrains, ytrain),\n",
    "      \"Score Train Ridge : %.4f\\n\" % lm_ridge.score(Xtrains, ytrain),\n",
    "      \"Score Train Lasso : %.4f\\n\" %  lm_lasso.score(Xtrains, ytrain))\n",
    "\n",
    "print(\" Score Test Lineal: %.4f\\n\" % lm.score(Xtests, ytest),\n",
    "      \"Score Test Ridge : %.4f\\n\" % lm_ridge.score(Xtests, ytest),\n",
    "      \"Score Test Lasso : %.4f\\n\" %  lm_lasso.score(Xtests, ytest))"
   ]
  },
  {
   "cell_type": "markdown",
   "metadata": {},
   "source": [
    "## Modelos 2"
   ]
  },
  {
   "cell_type": "code",
   "execution_count": 48,
   "metadata": {},
   "outputs": [],
   "source": [
    "y = df['usd_m2']\n",
    "X = df[['barrio_AgronomÃ­a',\n",
    "       'barrio_Almagro', 'barrio_Balvanera', 'barrio_Barracas',\n",
    "       'barrio_Barrio Norte', 'barrio_Belgrano', 'barrio_Boca', 'barrio_Boedo',\n",
    "       'barrio_Caballito', 'barrio_Catalinas', 'barrio_Centro / Microcentro',\n",
    "       'barrio_Chacarita', 'barrio_Coghlan', 'barrio_Colegiales',\n",
    "       'barrio_Congreso', 'barrio_ConstituciÃ³n', 'barrio_Flores',\n",
    "       'barrio_Floresta', 'barrio_Las CaÃ±itas', 'barrio_Liniers',\n",
    "       'barrio_Mataderos', 'barrio_Monserrat', 'barrio_Monte Castro',\n",
    "       'barrio_NuÃ±ez', 'barrio_Once', 'barrio_Otros', 'barrio_Palermo',\n",
    "       'barrio_Parque Avellaneda', 'barrio_Parque Centenario',\n",
    "       'barrio_Parque Chacabuco', 'barrio_Parque Chas',\n",
    "       'barrio_Parque Patricios', 'barrio_Paternal', 'barrio_Pompeya',\n",
    "       'barrio_Puerto Madero', 'barrio_Recoleta', 'barrio_Retiro',\n",
    "       'barrio_Saavedra', 'barrio_San Cristobal', 'barrio_San NicolÃ¡s',\n",
    "       'barrio_San Telmo', 'barrio_Tribunales', 'barrio_Velez Sarsfield',\n",
    "       'barrio_Versalles', 'barrio_Villa Crespo', 'barrio_Villa Devoto',\n",
    "       'barrio_Villa General Mitre', 'barrio_Villa Lugano',\n",
    "       'barrio_Villa Luro', 'barrio_Villa Ortuzar', 'barrio_Villa PueyrredÃ³n',\n",
    "       'barrio_Villa Real', 'barrio_Villa Riachuelo',\n",
    "       'barrio_Villa Santa Rita', 'barrio_Villa Soldati',\n",
    "       'barrio_Villa Urquiza', 'barrio_Villa del Parque','tipo_apartment',\n",
    "       'tipo_house','antig_estreno','antig_promedio','en_suite','parrillas','cocheras','piletas']]"
   ]
  },
  {
   "cell_type": "markdown",
   "metadata": {},
   "source": [
    "Split y normalizacion 2"
   ]
  },
  {
   "cell_type": "code",
   "execution_count": 49,
   "metadata": {},
   "outputs": [],
   "source": [
    "Xtrain, Xtest, ytrain, ytest = train_test_split(X, y, test_size=0.25, random_state=1)\n",
    "stdscaler = preprocessing.StandardScaler()\n",
    "Xtrains = stdscaler.fit_transform(Xtrain)\n",
    "Xtests = stdscaler.transform(Xtest)"
   ]
  },
  {
   "cell_type": "markdown",
   "metadata": {},
   "source": [
    "## Regresion lineal 2"
   ]
  },
  {
   "cell_type": "code",
   "execution_count": 50,
   "metadata": {},
   "outputs": [
    {
     "name": "stdout",
     "output_type": "stream",
     "text": [
      "MAE: 371.0239424253163\n",
      "MSE: 225302.22529291417\n",
      "RMSE: 474.6601155489201\n",
      "R2: 0.4735836321188779\n",
      "sup_cub_m2, sup_desc_m2, amb_tit, dummies por barrio, tipo y antiguedad\n"
     ]
    },
    {
     "data": {
      "image/png": "[encoded data removed]",
      "text/plain": [
       "<Figure size 432x288 with 1 Axes>"
      ]
     },
     "metadata": {
      "needs_background": "light"
     },
     "output_type": "display_data"
    }
   ],
   "source": [
    "lm = LinearRegression(fit_intercept=True) #instanciacion\n",
    "lm.fit(Xtrains, ytrain)                   #entrenamiento\n",
    "ypred = lm.predict(Xtests)                #predicciones\n",
    "\n",
    "#Metricas\n",
    "print ('MAE:', metrics.mean_absolute_error(ytest, ypred))\n",
    "print ('MSE:', metrics.mean_squared_error(ytest, ypred))\n",
    "print ('RMSE:', np.sqrt(metrics.mean_squared_error(ytest, ypred)))\n",
    "print ('R2:', metrics.r2_score(ytest, ypred))\n",
    "\n",
    "print('sup_cub_m2, sup_desc_m2, amb_tit, dummies por barrio, tipo y antiguedad')\n",
    "#print('intercepto: ',lm.intercept_)\n",
    "#print('coeficientes: ',lm.coef_)\n",
    "\n",
    "plt.plot(y,y, '-.',c='grey')\n",
    "plt.scatter(ypred, ytest, s=30, c='r', marker='+', zorder=10)\n",
    "plt.xlabel(\"Predicciones\")\n",
    "plt.ylabel(\"Valores reales\")\n",
    "plt.show()"
   ]
  },
  {
   "cell_type": "markdown",
   "metadata": {},
   "source": [
    "## Ridge 2"
   ]
  },
  {
   "cell_type": "code",
   "execution_count": 51,
   "metadata": {},
   "outputs": [
    {
     "name": "stdout",
     "output_type": "stream",
     "text": [
      "RMSE: 474.66133003221245\n",
      "R2: 0.4735809382978444\n",
      "alfa:  1.0\n",
      "sup_cub_m2, sup_desc_m2, amb_tit\n"
     ]
    },
    {
     "data": {
      "image/png": "[encoded data removed]",
      "text/plain": [
       "<Figure size 432x288 with 1 Axes>"
      ]
     },
     "metadata": {
      "needs_background": "light"
     },
     "output_type": "display_data"
    }
   ],
   "source": [
    "lm_ridge =  linear_model.RidgeCV(alphas=[0.5, 1, 10],cv=5, normalize=False) # instanciacion\n",
    "modelo_2 = lm_ridge.fit(Xtrains, ytrain)                                    # fiteo\n",
    "ypred_modelo_2=lm_ridge.predict(Xtests)                                     # predicciones\n",
    "\n",
    "#Metricas\n",
    "print ('RMSE:', np.sqrt(metrics.mean_squared_error(ytest, ypred_modelo_2)))\n",
    "print ('R2:', metrics.r2_score(ytest, ypred_modelo_2))\n",
    "print('alfa: ',lm_ridge.alpha_)\n",
    "\n",
    "#Parametros\n",
    "print('sup_cub_m2, sup_desc_m2, amb_tit')\n",
    "#print('intercepto: ',lm_ridge.intercept_)\n",
    "#print('coeficientes: ',lm_ridge.coef_)\n",
    "\n",
    "# Graficamos el modelo\n",
    "plt.plot(y,y, '-.',c='grey')\n",
    "plt.scatter(ypred, ytest, s=30, c='r', marker='+', zorder=10)\n",
    "plt.xlabel(\"Predicciones\")\n",
    "plt.ylabel(\"Valores reales\")\n",
    "plt.show()"
   ]
  },
  {
   "cell_type": "markdown",
   "metadata": {},
   "source": [
    "## Lasso 2"
   ]
  },
  {
   "cell_type": "code",
   "execution_count": 52,
   "metadata": {},
   "outputs": [
    {
     "name": "stdout",
     "output_type": "stream",
     "text": [
      "RMSE: 474.707673186646\n",
      "R2: 0.4734781403268825\n",
      "alfa:  0.5\n"
     ]
    },
    {
     "data": {
      "image/png": "[encoded data removed]",
      "text/plain": [
       "<Figure size 432x288 with 1 Axes>"
      ]
     },
     "metadata": {
      "needs_background": "light"
     },
     "output_type": "display_data"
    }
   ],
   "source": [
    "lm_lasso =  linear_model.LassoCV(alphas=[0.5, 1, 10],cv=5, normalize=False) # Instanciacion\n",
    "modelo_3 = lm_lasso.fit(Xtrains, ytrain)                                    # entrenamiento\n",
    "ypred_modelo_3=lm_lasso.predict(Xtests)                                     # Predicciones\n",
    "\n",
    "#Metricas\n",
    "print ('RMSE:', np.sqrt(metrics.mean_squared_error(ytest, ypred_modelo_3)))\n",
    "print ('R2:', metrics.r2_score(ytest, ypred_modelo_3))\n",
    "print('alfa: ',lm_lasso.alpha_)\n",
    "\n",
    "#Parametros\n",
    "#print('intercepto: ',lm_lasso.intercept_)\n",
    "#print('coeficientes: ',lm_lasso.coef_)\n",
    "\n",
    "# Graficamos el modelo\n",
    "plt.plot(y,y, '-.',c='grey')\n",
    "plt.scatter(ypred, ytest, s=30, c='r', marker='+', zorder=10)\n",
    "plt.xlabel(\"Predicciones\")\n",
    "plt.ylabel(\"Valores reales\")\n",
    "plt.show()"
   ]
  },
  {
   "cell_type": "markdown",
   "metadata": {},
   "source": [
    "Comparacion metricas"
   ]
  },
  {
   "cell_type": "code",
   "execution_count": 53,
   "metadata": {},
   "outputs": [
    {
     "name": "stdout",
     "output_type": "stream",
     "text": [
      " Score Train Lineal: 0.4878\n",
      " Score Train Ridge : 0.4878\n",
      " Score Train Lasso : 0.4877\n",
      "\n",
      " Score Test Lineal: 0.4736\n",
      " Score Test Ridge : 0.4736\n",
      " Score Test Lasso : 0.4735\n",
      "\n"
     ]
    }
   ],
   "source": [
    "print(\" Score Train Lineal: %.4f\\n\" % lm.score(Xtrains, ytrain),\n",
    "      \"Score Train Ridge : %.4f\\n\" % lm_ridge.score(Xtrains, ytrain),\n",
    "      \"Score Train Lasso : %.4f\\n\" %  lm_lasso.score(Xtrains, ytrain))\n",
    "\n",
    "print(\" Score Test Lineal: %.4f\\n\" % lm.score(Xtests, ytest),\n",
    "      \"Score Test Ridge : %.4f\\n\" % lm_ridge.score(Xtests, ytest),\n",
    "      \"Score Test Lasso : %.4f\\n\" %  lm_lasso.score(Xtests, ytest))"
   ]
  },
  {
   "cell_type": "markdown",
   "metadata": {},
   "source": [
    "## Stats model: features selection"
   ]
  },
  {
   "cell_type": "code",
   "execution_count": 54,
   "metadata": {},
   "outputs": [
    {
     "name": "stderr",
     "output_type": "stream",
     "text": [
      "/opt/anaconda3/lib/python3.7/site-packages/numpy/core/fromnumeric.py:2495: FutureWarning: Method .ptp is deprecated and will be removed in a future version. Use numpy.ptp instead.\n",
      "  return ptp(axis=axis, out=out, **kwargs)\n"
     ]
    },
    {
     "data": {
      "image/png": "[encoded data removed]",
      "text/plain": [
       "<Figure size 432x288 with 1 Axes>"
      ]
     },
     "metadata": {
      "needs_background": "light"
     },
     "output_type": "display_data"
    },
    {
     "name": "stdout",
     "output_type": "stream",
     "text": [
      "EMC: 217205.5450987722\n",
      "                            OLS Regression Results                            \n",
      "==============================================================================\n",
      "Dep. Variable:                 usd_m2   R-squared:                       0.485\n",
      "Model:                            OLS   Adj. R-squared:                  0.481\n",
      "Method:                 Least Squares   F-statistic:                     103.9\n",
      "Date:                Mon, 04 May 2020   Prob (F-statistic):               0.00\n",
      "Time:                        14:11:53   Log-Likelihood:                -54622.\n",
      "No. Observations:                7222   AIC:                         1.094e+05\n",
      "Df Residuals:                    7156   BIC:                         1.098e+05\n",
      "Df Model:                          65                                         \n",
      "Covariance Type:            nonrobust                                         \n",
      "===============================================================================================\n",
      "                                  coef    std err          t      P>|t|      [0.025      0.975]\n",
      "-----------------------------------------------------------------------------------------------\n",
      "const                        1466.6326    141.746     10.347      0.000    1188.768    1744.497\n",
      "barrio_AgronomÃ­a              35.8229    159.222      0.225      0.822    -276.299     347.945\n",
      "barrio_Almagro                124.4931    119.898      1.038      0.299    -110.543     359.529\n",
      "barrio_Balvanera             -185.9324    122.205     -1.521      0.128    -425.489      53.625\n",
      "barrio_Barracas               -46.8139    124.783     -0.375      0.708    -291.425     197.798\n",
      "barrio_Barrio Norte           681.0861    120.118      5.670      0.000     445.620     916.553\n",
      "barrio_Belgrano               710.8154    118.658      5.990      0.000     478.211     943.419\n",
      "barrio_Boca                  -419.9054    138.559     -3.031      0.002    -691.521    -148.290\n",
      "barrio_Boedo                 -140.8157    129.738     -1.085      0.278    -395.140     113.508\n",
      "barrio_Caballito              311.9138    118.468      2.633      0.008      79.681     544.147\n",
      "barrio_Catalinas              104.5967    488.983      0.214      0.831    -853.954    1063.147\n",
      "barrio_Centro / Microcentro   110.0291    144.258      0.763      0.446    -172.758     392.817\n",
      "barrio_Chacarita               88.2687    135.595      0.651      0.515    -177.538     354.075\n",
      "barrio_Coghlan                400.7002    126.708      3.162      0.002     152.314     649.086\n",
      "barrio_Colegiales             439.4001    124.818      3.520      0.000     194.719     684.081\n",
      "barrio_Congreso              -284.8572    130.494     -2.183      0.029    -540.665     -29.050\n",
      "barrio_ConstituciÃ³n         -291.0097    129.193     -2.253      0.024    -544.267     -37.752\n",
      "barrio_Flores                -124.3122    119.641     -1.039      0.299    -358.844     110.219\n",
      "barrio_Floresta              -229.3751    123.744     -1.854      0.064    -471.950      13.200\n",
      "barrio_Las CaÃ±itas           971.5262    138.163      7.032      0.000     700.685    1242.367\n",
      "barrio_Liniers               -179.4830    127.463     -1.408      0.159    -429.347      70.381\n",
      "barrio_Mataderos             -348.7656    126.730     -2.752      0.006    -597.195    -100.337\n",
      "barrio_Monserrat             -193.4539    129.600     -1.493      0.136    -447.509      60.601\n",
      "barrio_Monte Castro          -178.1752    144.232     -1.235      0.217    -460.912     104.562\n",
      "barrio_NuÃ±ez                 620.1993    121.637      5.099      0.000     381.754     858.645\n",
      "barrio_Once                  -231.2906    135.325     -1.709      0.087    -496.568      33.987\n",
      "barrio_Otros                  -52.5938    155.426     -0.338      0.735    -357.275     252.088\n",
      "barrio_Palermo                749.0079    118.422      6.325      0.000     516.867     981.149\n",
      "barrio_Parque Avellaneda     -422.7822    159.087     -2.658      0.008    -734.639    -110.925\n",
      "barrio_Parque Centenario      220.7968    151.228      1.460      0.144     -75.655     517.248\n",
      "barrio_Parque Chacabuco      -197.7914    130.976     -1.510      0.131    -454.544      58.961\n",
      "barrio_Parque Chas             78.6697    168.542      0.467      0.641    -251.722     409.061\n",
      "barrio_Parque Patricios      -135.2096    130.122     -1.039      0.299    -390.288     119.868\n",
      "barrio_Paternal              -159.9152    133.395     -1.199      0.231    -421.408     101.578\n",
      "barrio_Pompeya               -534.1121    151.345     -3.529      0.000    -830.793    -237.431\n",
      "barrio_Puerto Madero         1373.2539    224.571      6.115      0.000     933.028    1813.480\n",
      "barrio_Recoleta               737.8725    119.510      6.174      0.000     503.598     972.147\n",
      "barrio_Retiro                 495.7736    132.967      3.729      0.000     235.119     756.428\n",
      "barrio_Saavedra               292.1022    122.555      2.383      0.017      51.858     532.346\n",
      "barrio_San Cristobal         -201.8312    126.009     -1.602      0.109    -448.846      45.184\n",
      "barrio_San NicolÃ¡s          -124.4512    134.978     -0.922      0.357    -389.048     140.146\n",
      "barrio_San Telmo              -16.5442    122.415     -0.135      0.892    -256.513     223.425\n",
      "barrio_Tribunales            -328.2048    212.260     -1.546      0.122    -744.297      87.888\n",
      "barrio_Velez Sarsfield       -354.1368    189.134     -1.872      0.061    -724.896      16.623\n",
      "barrio_Versalles              -90.9514    152.679     -0.596      0.551    -390.247     208.344\n",
      "barrio_Villa Crespo           250.4831    121.033      2.070      0.039      13.222     487.744\n",
      "barrio_Villa Devoto           152.1415    124.051      1.226      0.220     -91.036     395.319\n",
      "barrio_Villa General Mitre   -127.2470    158.973     -0.800      0.423    -438.882     184.388\n",
      "barrio_Villa Lugano          -588.8927    133.706     -4.404      0.000    -850.997    -326.789\n",
      "barrio_Villa Luro             -47.2649    126.232     -0.374      0.708    -294.717     200.187\n",
      "barrio_Villa Ortuzar          285.6960    145.341      1.966      0.049       0.785     570.607\n",
      "barrio_Villa PueyrredÃ³n       74.9197    132.188      0.567      0.571    -184.208     334.047\n",
      "barrio_Villa Real            -172.3928    157.393     -1.095      0.273    -480.930     136.144\n",
      "barrio_Villa Riachuelo       -927.1608    482.918     -1.920      0.055   -1873.823      19.501\n",
      "barrio_Villa Santa Rita         2.6559    161.008      0.016      0.987    -312.966     318.278\n",
      "barrio_Villa Soldati         -922.4854    195.216     -4.725      0.000   -1305.166    -539.805\n",
      "barrio_Villa Urquiza          343.1165    119.504      2.871      0.004     108.853     577.380\n",
      "barrio_Villa del Parque        44.5071    125.527      0.355      0.723    -201.563     290.577\n",
      "tipo_apartment                262.1041     20.181     12.988      0.000     222.544     301.664\n",
      "tipo_house                   -154.2344     31.274     -4.932      0.000    -215.542     -92.927\n",
      "antig_estreno                 335.9133     81.041      4.145      0.000     177.049     494.777\n",
      "antig_promedio                231.5685     78.496      2.950      0.003      77.694     385.443\n",
      "en_suite                       90.4594     16.632      5.439      0.000      57.856     123.062\n",
      "parrillas                      -4.8348     15.981     -0.303      0.762     -36.162      26.493\n",
      "cocheras                      158.0865     14.915     10.599      0.000     128.849     187.324\n",
      "piletas                       247.3044     19.931     12.408      0.000     208.234     286.375\n",
      "==============================================================================\n",
      "Omnibus:                       40.062   Durbin-Watson:                   1.677\n",
      "Prob(Omnibus):                  0.000   Jarque-Bera (JB):               43.801\n",
      "Skew:                           0.144   Prob(JB):                     3.08e-10\n",
      "Kurtosis:                       3.251   Cond. No.                         273.\n",
      "==============================================================================\n",
      "\n",
      "Warnings:\n",
      "[1] Standard Errors assume that the covariance matrix of the errors is correctly specified.\n"
     ]
    }
   ],
   "source": [
    "X = df[['barrio_AgronomÃ­a',\n",
    "       'barrio_Almagro', 'barrio_Balvanera', 'barrio_Barracas',\n",
    "       'barrio_Barrio Norte', 'barrio_Belgrano', 'barrio_Boca', 'barrio_Boedo',\n",
    "       'barrio_Caballito', 'barrio_Catalinas', 'barrio_Centro / Microcentro',\n",
    "       'barrio_Chacarita', 'barrio_Coghlan', 'barrio_Colegiales',\n",
    "       'barrio_Congreso', 'barrio_ConstituciÃ³n', 'barrio_Flores',\n",
    "       'barrio_Floresta', 'barrio_Las CaÃ±itas', 'barrio_Liniers',\n",
    "       'barrio_Mataderos', 'barrio_Monserrat', 'barrio_Monte Castro',\n",
    "       'barrio_NuÃ±ez', 'barrio_Once', 'barrio_Otros', 'barrio_Palermo',\n",
    "       'barrio_Parque Avellaneda', 'barrio_Parque Centenario',\n",
    "       'barrio_Parque Chacabuco', 'barrio_Parque Chas',\n",
    "       'barrio_Parque Patricios', 'barrio_Paternal', 'barrio_Pompeya',\n",
    "       'barrio_Puerto Madero', 'barrio_Recoleta', 'barrio_Retiro',\n",
    "       'barrio_Saavedra', 'barrio_San Cristobal', 'barrio_San NicolÃ¡s',\n",
    "       'barrio_San Telmo', 'barrio_Tribunales', 'barrio_Velez Sarsfield',\n",
    "       'barrio_Versalles', 'barrio_Villa Crespo', 'barrio_Villa Devoto',\n",
    "       'barrio_Villa General Mitre', 'barrio_Villa Lugano',\n",
    "       'barrio_Villa Luro', 'barrio_Villa Ortuzar', 'barrio_Villa PueyrredÃ³n',\n",
    "       'barrio_Villa Real', 'barrio_Villa Riachuelo',\n",
    "       'barrio_Villa Santa Rita', 'barrio_Villa Soldati',\n",
    "       'barrio_Villa Urquiza', 'barrio_Villa del Parque','tipo_apartment',\n",
    "       'tipo_house','antig_estreno','antig_promedio','en_suite','parrillas','cocheras','piletas']]\n",
    "\n",
    "y = df['usd_m2']\n",
    "\n",
    "# Tenemos que agregar explícitamente a una constante:\n",
    "X = sm.add_constant(X)\n",
    "\n",
    "model = sm.OLS(y, X).fit()\n",
    "predictions = model.predict(X)\n",
    "\n",
    "# Graficamos los resultados\n",
    "plt.plot(y,y, '-.', c='grey')\n",
    "plt.scatter(predictions, y, s=30, c='g', marker='+', zorder=10)\n",
    "plt.xlabel(\"Predicciones\")\n",
    "plt.ylabel(\"Valores reales\")\n",
    "plt.show()\n",
    "\n",
    "# Imprimimos el MSE y un resumen del modelo\n",
    "print (\"EMC:\", mean_squared_error(y, predictions))\n",
    "print (model.summary())"
   ]
  },
  {
   "cell_type": "markdown",
   "metadata": {},
   "source": [
    "## FEATURES 3"
   ]
  },
  {
   "cell_type": "markdown",
   "metadata": {},
   "source": [
    "Descarte de 34 columnas (por p values > 5% en stats)"
   ]
  },
  {
   "cell_type": "code",
   "execution_count": 55,
   "metadata": {},
   "outputs": [],
   "source": [
    "X = df[['barrio_Barrio Norte', 'barrio_Belgrano', 'barrio_Boca',\n",
    "       'barrio_Caballito', 'barrio_Coghlan', 'barrio_Colegiales',\n",
    "       'barrio_Congreso', 'barrio_ConstituciÃ³n', 'barrio_Las CaÃ±itas',\n",
    "        'barrio_Mataderos','barrio_NuÃ±ez', 'barrio_Palermo',\n",
    "       'barrio_Parque Avellaneda', 'barrio_Pompeya',\n",
    "       'barrio_Puerto Madero', 'barrio_Recoleta', 'barrio_Retiro',\n",
    "       'barrio_Saavedra','barrio_Villa Crespo',\n",
    "        'barrio_Villa Lugano', 'barrio_Villa Ortuzar', 'barrio_Villa Soldati',\n",
    "       'barrio_Villa Urquiza','tipo_apartment','tipo_house','antig_estreno','antig_promedio','en_suite','cocheras','piletas']]\n",
    "y = df['usd_m2']"
   ]
  },
  {
   "cell_type": "code",
   "execution_count": 56,
   "metadata": {},
   "outputs": [],
   "source": [
    "Xtrain, Xtest, ytrain, ytest = train_test_split(X, y, test_size=0.25, random_state=1)\n",
    "stdscaler = preprocessing.StandardScaler()\n",
    "Xtrains = stdscaler.fit_transform(Xtrain)\n",
    "Xtests = stdscaler.transform(Xtest)"
   ]
  },
  {
   "cell_type": "markdown",
   "metadata": {},
   "source": [
    "## Regresion lineal 3"
   ]
  },
  {
   "cell_type": "code",
   "execution_count": 57,
   "metadata": {},
   "outputs": [
    {
     "name": "stdout",
     "output_type": "stream",
     "text": [
      "MAE: 375.16827754319127\n",
      "MSE: 229480.0702366385\n",
      "RMSE: 479.04078139197975\n",
      "R2: 0.463822139714679\n",
      "coeficientes:  [150.01286594 221.75601078 -27.1621871  110.54528064  48.09789929\n",
      "  55.26019565 -22.27352346 -23.82457191  73.2546035  -33.15157969\n",
      " 101.55751899 244.65885835 -14.01701583 -27.79030388  43.04626136\n",
      " 184.04496878  41.96636991  49.49072941  56.32790123 -47.45821832\n",
      "  19.67576257 -33.87041104  85.45503354  93.32196822 -37.00871348\n",
      " 106.22453309  75.62560707  30.77670212  66.13416819  74.94753457]\n"
     ]
    },
    {
     "data": {
      "image/png": "[encoded data removed]",
      "text/plain": [
       "<Figure size 432x288 with 1 Axes>"
      ]
     },
     "metadata": {
      "needs_background": "light"
     },
     "output_type": "display_data"
    }
   ],
   "source": [
    "lm = LinearRegression(fit_intercept=True)    #Instanciacion\n",
    "lm.fit(Xtrains, ytrain)                      #Entrenamiento\n",
    "ypred = lm.predict(Xtests)                   #Prediccion con el set de testeo\n",
    "\n",
    "#Metricas\n",
    "print ('MAE:', metrics.mean_absolute_error(ytest, ypred))\n",
    "print ('MSE:', metrics.mean_squared_error(ytest, ypred))\n",
    "print ('RMSE:', np.sqrt(metrics.mean_squared_error(ytest, ypred)))\n",
    "print ('R2:', metrics.r2_score(ytest, ypred))\n",
    "\n",
    "#Parametros\n",
    "#print('intercepto: ',lm.intercept_)\n",
    "print('coeficientes: ',lm.coef_)\n",
    "\n",
    "# Graficamos el modelo\n",
    "plt.plot(y,y, '-.',c='grey')\n",
    "plt.scatter(ypred, ytest, s=30, c='y', marker='+', zorder=10)\n",
    "plt.xlabel(\"Predicciones\")\n",
    "plt.ylabel(\"Valores reales\")\n",
    "plt.show()"
   ]
  },
  {
   "cell_type": "markdown",
   "metadata": {},
   "source": [
    "## Ridge 3"
   ]
  },
  {
   "cell_type": "code",
   "execution_count": 58,
   "metadata": {},
   "outputs": [
    {
     "name": "stdout",
     "output_type": "stream",
     "text": [
      "RMSE: 479.0705626635432\n",
      "R2: 0.4637554708403814\n",
      "alfa:  10.0\n",
      "coeficientes:  [149.41158753 220.95675463 -27.22522498 109.92323366  47.85945288\n",
      "  54.99542143 -22.45637884 -23.95791088  73.00605103 -33.23339542\n",
      " 101.14640827 243.80665312 -14.04561103 -27.81755906  42.92032353\n",
      " 183.34089864  41.66425525  49.19730638  55.98103435 -47.48757987\n",
      "  19.57490141 -33.86050275  84.98311849  93.41634972 -37.04012663\n",
      " 102.15006446  71.63012772  30.90507286  66.12762243  74.9089485 ]\n"
     ]
    },
    {
     "data": {
      "image/png": "[encoded data removed]",
      "text/plain": [
       "<Figure size 432x288 with 1 Axes>"
      ]
     },
     "metadata": {
      "needs_background": "light"
     },
     "output_type": "display_data"
    }
   ],
   "source": [
    "lm_ridge =  linear_model.RidgeCV(alphas=[0.5, 1, 10],cv=5, normalize=False)  #Instanciacion\n",
    "modelo_2 = lm_ridge.fit(Xtrains, ytrain)                                     #Entrenamiento\n",
    "ypred_modelo_2=lm_ridge.predict(Xtests)                                      #Prediccion con el set de testeo\n",
    "\n",
    "#Metricas\n",
    "print ('RMSE:', np.sqrt(metrics.mean_squared_error(ytest, ypred_modelo_2)))\n",
    "print ('R2:', metrics.r2_score(ytest, ypred_modelo_2))\n",
    "print('alfa: ',lm_ridge.alpha_)\n",
    "\n",
    "#Parametros\n",
    "#print('intercepto: ',lm_ridge.intercept_)\n",
    "print('coeficientes: ',lm_ridge.coef_)\n",
    "\n",
    "# Graficamos el modelo\n",
    "plt.plot(y,y, '-.',c='grey')\n",
    "plt.scatter(ypred, ytest, s=30, c='y', marker='+', zorder=10)\n",
    "plt.xlabel(\"Predicciones\")\n",
    "plt.ylabel(\"Valores reales\")\n",
    "plt.show()"
   ]
  },
  {
   "cell_type": "markdown",
   "metadata": {},
   "source": [
    "## Lasso 3"
   ]
  },
  {
   "cell_type": "code",
   "execution_count": 59,
   "metadata": {},
   "outputs": [
    {
     "name": "stdout",
     "output_type": "stream",
     "text": [
      "RMSE: 479.17468550812134\n",
      "R2: 0.46352234704678474\n",
      "alfa:  0.5\n",
      "coeficientes:  [148.96573041 220.70064028 -26.8425269  109.41313741  47.39672301\n",
      "  54.52418942 -22.26483008 -23.65859358  72.59424868 -32.88669375\n",
      " 100.72197581 243.53106931 -13.60344208 -27.44643304  42.48464181\n",
      " 182.94637554  40.97060734  48.6836917   55.4594632  -47.15967776\n",
      "  19.07771064 -33.46233055  84.52610956  93.61694446 -36.61673388\n",
      "  93.51565626  62.88040261  30.68211516  66.01356394  74.77962549]\n"
     ]
    },
    {
     "data": {
      "image/png": "[encoded data removed]",
      "text/plain": [
       "<Figure size 432x288 with 1 Axes>"
      ]
     },
     "metadata": {
      "needs_background": "light"
     },
     "output_type": "display_data"
    }
   ],
   "source": [
    "lm_lasso =  linear_model.LassoCV(alphas=[0.5, 1, 10],cv=5, normalize=False)  #Instanciacion\n",
    "modelo_3 = lm_lasso.fit(Xtrains, ytrain)                                     #Entrenamiento\n",
    "ypred_modelo_3=lm_lasso.predict(Xtests)                                      #Prediccion con el set de testeo\n",
    "\n",
    "#Metricas\n",
    "print ('RMSE:', np.sqrt(metrics.mean_squared_error(ytest, ypred_modelo_3)))\n",
    "print ('R2:', metrics.r2_score(ytest, ypred_modelo_3))\n",
    "print('alfa: ',lm_lasso.alpha_)\n",
    "\n",
    "#Parametros\n",
    "#print('intercepto: ',lm_lasso.intercept_)\n",
    "print('coeficientes: ',lm_lasso.coef_)\n",
    "\n",
    "# Graficamos el modelo\n",
    "plt.plot(y,y, '-.',c='grey')\n",
    "plt.scatter(ypred, ytest, s=30, c='y', marker='+', zorder=10)\n",
    "plt.xlabel(\"Predicciones\")\n",
    "plt.ylabel(\"Valores reales\")\n",
    "plt.show()"
   ]
  },
  {
   "cell_type": "code",
   "execution_count": 60,
   "metadata": {},
   "outputs": [
    {
     "name": "stdout",
     "output_type": "stream",
     "text": [
      " Score Train Lineal: 0.4725\n",
      " Score Train Ridge : 0.4725\n",
      " Score Train Lasso : 0.4725\n",
      "\n",
      " Score Test Lineal: 0.4638\n",
      " Score Test Ridge : 0.4638\n",
      " Score Test Lasso : 0.4635\n",
      "\n"
     ]
    }
   ],
   "source": [
    "print(\" Score Train Lineal: %.4f\\n\" % lm.score(Xtrains, ytrain),\n",
    "      \"Score Train Ridge : %.4f\\n\" % lm_ridge.score(Xtrains, ytrain),\n",
    "      \"Score Train Lasso : %.4f\\n\" %  lm_lasso.score(Xtrains, ytrain))\n",
    "\n",
    "print(\" Score Test Lineal: %.4f\\n\" % lm.score(Xtests, ytest),\n",
    "      \"Score Test Ridge : %.4f\\n\" % lm_ridge.score(Xtests, ytest),\n",
    "      \"Score Test Lasso : %.4f\\n\" %  lm_lasso.score(Xtests, ytest))"
   ]
  },
  {
   "cell_type": "markdown",
   "metadata": {},
   "source": [
    "## Ridge sin CV"
   ]
  },
  {
   "cell_type": "code",
   "execution_count": 61,
   "metadata": {},
   "outputs": [
    {
     "name": "stdout",
     "output_type": "stream",
     "text": [
      "RMSE: 479.0421546495753\n",
      "R2: 0.46381906560740793\n"
     ]
    }
   ],
   "source": [
    "ridge = linear_model.Ridge(alpha=0.5, normalize=False)\n",
    "ridge_model = ridge.fit(Xtrains, ytrain)\n",
    "predictions = ridge_model.predict(Xtests)\n",
    "\n",
    "#Metricas\n",
    "print ('RMSE:', np.sqrt(metrics.mean_squared_error(ytest, predictions)))\n",
    "print ('R2:', metrics.r2_score(ytest, predictions))"
   ]
  },
  {
   "cell_type": "markdown",
   "metadata": {},
   "source": [
    "## Lasso sin CV"
   ]
  },
  {
   "cell_type": "code",
   "execution_count": 62,
   "metadata": {},
   "outputs": [
    {
     "name": "stdout",
     "output_type": "stream",
     "text": [
      "RMSE: 525.4371162544795\n",
      "R2: 0.3549321485859154\n"
     ]
    }
   ],
   "source": [
    "lasso = linear_model.Lasso(alpha=0.5, normalize=True)\n",
    "lasso_model =lasso.fit(Xtrains, ytrain)\n",
    "predictions2 = lasso_model.predict(Xtests)\n",
    "\n",
    "#Metricas\n",
    "print ('RMSE:', np.sqrt(metrics.mean_squared_error(ytest, predictions2)))\n",
    "print ('R2:', metrics.r2_score(ytest, predictions2))"
   ]
  },
  {
   "cell_type": "markdown",
   "metadata": {},
   "source": [
    "## Agregado dist subte y EPH"
   ]
  },
  {
   "cell_type": "code",
   "execution_count": 63,
   "metadata": {},
   "outputs": [],
   "source": [
    "df2 = pd.read_excel('eph2.xlsx')\n",
    "df3=pd.merge(df,df2,left_on='barrio',right_on='Barrio')\n",
    "df=df3"
   ]
  },
  {
   "cell_type": "code",
   "execution_count": 64,
   "metadata": {},
   "outputs": [],
   "source": [
    "X = df[['barrio_Barrio Norte', 'barrio_Belgrano', 'barrio_Boca',\n",
    "       'barrio_Caballito', 'barrio_Coghlan', 'barrio_Colegiales',\n",
    "       'barrio_Congreso', 'barrio_ConstituciÃ³n', 'barrio_Las CaÃ±itas',\n",
    "        'barrio_Mataderos','barrio_NuÃ±ez', 'barrio_Palermo',\n",
    "       'barrio_Parque Avellaneda', 'barrio_Pompeya',\n",
    "       'barrio_Puerto Madero', 'barrio_Recoleta', 'barrio_Retiro',\n",
    "       'barrio_Saavedra','barrio_Villa Crespo',\n",
    "        'barrio_Villa Lugano', 'barrio_Villa Ortuzar', 'barrio_Villa Soldati',\n",
    "       'barrio_Villa Urquiza','tipo_apartment','tipo_house','antig_estreno','antig_promedio','en_suite','cocheras','piletas',\n",
    "        'iprom','imax','dist_subte']]\n",
    "y = df['usd_m2']"
   ]
  },
  {
   "cell_type": "markdown",
   "metadata": {},
   "source": [
    "## Regresion lineal 4"
   ]
  },
  {
   "cell_type": "code",
   "execution_count": 65,
   "metadata": {},
   "outputs": [],
   "source": [
    "Xtrain, Xtest, ytrain, ytest = train_test_split(X, y, test_size=0.25, random_state=1)\n",
    "stdscaler = preprocessing.StandardScaler()\n",
    "Xtrains = stdscaler.fit_transform(Xtrain)\n",
    "Xtests = stdscaler.transform(Xtest)"
   ]
  },
  {
   "cell_type": "code",
   "execution_count": 66,
   "metadata": {},
   "outputs": [
    {
     "name": "stdout",
     "output_type": "stream",
     "text": [
      "MAE: 370.0040639096102\n",
      "MSE: 218589.27340561792\n",
      "RMSE: 467.5353178163313\n",
      "R2: 0.4772511169223551\n"
     ]
    }
   ],
   "source": [
    "lm = LinearRegression(fit_intercept=True) #Instanciacion\n",
    "lm.fit(Xtrains, ytrain) #Entrenamiento\n",
    "ypred = lm.predict(Xtests) #Prediccion con el set de testeo\n",
    "\n",
    "#Metricas\n",
    "print ('MAE:', metrics.mean_absolute_error(ytest, ypred))\n",
    "print ('MSE:', metrics.mean_squared_error(ytest, ypred))\n",
    "print ('RMSE:', np.sqrt(metrics.mean_squared_error(ytest, ypred)))\n",
    "print ('R2:', metrics.r2_score(ytest, ypred))\n",
    "\n",
    "#Parametros\n",
    "#print('intercepto: ',lm.intercept_)\n",
    "#print('coeficientes: ',lm.coef_)"
   ]
  },
  {
   "cell_type": "markdown",
   "metadata": {},
   "source": [
    "### Ridge 4"
   ]
  },
  {
   "cell_type": "code",
   "execution_count": 67,
   "metadata": {},
   "outputs": [
    {
     "name": "stdout",
     "output_type": "stream",
     "text": [
      "RMSE: 467.54710548000907\n",
      "R2: 0.4772247571353362\n",
      "alfa:  10.0\n",
      "intercepto:  2256.0307621379166\n",
      "coeficientes:  [140.94260241 221.18392686 -30.53437945  93.56622855  50.70066847\n",
      "  54.08973876 -19.66338387 -17.47650138  78.95907678 -34.30490236\n",
      " 103.41406809 215.93612515 -15.52601459 -30.63788232  31.90577059\n",
      " 162.92926369  54.01717159  59.26432452  58.58356347 -46.53307945\n",
      "  24.2822431  -31.58162064  89.36301061  88.83223113 -35.17647102\n",
      " 103.50375114  76.57062802  33.7220597   66.42334592  77.29241912\n",
      " -16.9799496   38.47657576   4.31308898]\n"
     ]
    }
   ],
   "source": [
    "lm_ridge =  linear_model.RidgeCV(alphas=[0.5, 1, 10],cv=5, normalize=False) #Instanciacion\n",
    "modelo_2 = lm_ridge.fit(Xtrains, ytrain)   #Entrenamiento\n",
    "ypred_modelo_2=lm_ridge.predict(Xtests)   #Prediccion con el set de testeo\n",
    "\n",
    "#Metricas\n",
    "print ('RMSE:', np.sqrt(metrics.mean_squared_error(ytest, ypred_modelo_2)))\n",
    "print ('R2:', metrics.r2_score(ytest, ypred_modelo_2))\n",
    "\n",
    "#Alfa\n",
    "print('alfa: ',lm_ridge.alpha_)\n",
    "\n",
    "#Parametros\n",
    "print('intercepto: ',lm_ridge.intercept_)\n",
    "print('coeficientes: ',lm_ridge.coef_)"
   ]
  },
  {
   "cell_type": "markdown",
   "metadata": {},
   "source": [
    "## Lasso 4"
   ]
  },
  {
   "cell_type": "code",
   "execution_count": 68,
   "metadata": {},
   "outputs": [
    {
     "name": "stdout",
     "output_type": "stream",
     "text": [
      "RMSE: 467.47408636428236\n",
      "R2: 0.47738803311207\n",
      "alfa:  0.5\n",
      "coeficientes:  [139.53839809 220.48345117 -29.89685907  92.51466069  50.0961863\n",
      "  53.26847943 -19.55344879 -17.47839957  78.28658319 -33.6118345\n",
      " 103.16530366 215.60266023 -14.91279406 -30.26662199  31.30980421\n",
      " 162.59071912  52.98522779  59.00766285  57.97633989 -45.92671816\n",
      "  23.60692689 -31.09663242  88.8155037   88.76697046 -34.71517927\n",
      "  94.69020539  67.59961554  33.51290263  66.25863173  77.18001424\n",
      " -15.45732675  38.59090387   3.05120062]\n"
     ]
    }
   ],
   "source": [
    "lm_lasso =  linear_model.LassoCV(alphas=[0.5, 1, 10],cv=5, normalize=False)  #Instanciacion\n",
    "modelo_3 = lm_lasso.fit(Xtrains, ytrain)  #Entrenamiento\n",
    "ypred_modelo_3=lm_lasso.predict(Xtests)   #Prediccion con el set de testeo\n",
    "\n",
    "#Metricas\n",
    "print ('RMSE:', np.sqrt(metrics.mean_squared_error(ytest, ypred_modelo_3)))\n",
    "print ('R2:', metrics.r2_score(ytest, ypred_modelo_3))\n",
    "\n",
    "#Alfa\n",
    "print('alfa: ',lm_lasso.alpha_)\n",
    "\n",
    "#Parametros\n",
    "#print('intercepto: ',lm_lasso.intercept_)\n",
    "print('coeficientes: ',lm_lasso.coef_)"
   ]
  },
  {
   "cell_type": "markdown",
   "metadata": {},
   "source": [
    "## Resumen 4"
   ]
  },
  {
   "cell_type": "code",
   "execution_count": 69,
   "metadata": {},
   "outputs": [
    {
     "name": "stdout",
     "output_type": "stream",
     "text": [
      " Score Train Lineal: 0.4680\n",
      " Score Train Ridge : 0.4680\n",
      " Score Train Lasso : 0.4680\n",
      "\n",
      " Score Test Lineal: 0.4773\n",
      " Score Test Ridge : 0.4772\n",
      " Score Test Lasso : 0.4774\n",
      "\n"
     ]
    }
   ],
   "source": [
    "print(\" Score Train Lineal: %.4f\\n\" % lm.score(Xtrains, ytrain),\n",
    "      \"Score Train Ridge : %.4f\\n\" % lm_ridge.score(Xtrains, ytrain),\n",
    "      \"Score Train Lasso : %.4f\\n\" %  lm_lasso.score(Xtrains, ytrain))\n",
    "\n",
    "print(\" Score Test Lineal: %.4f\\n\" % lm.score(Xtests, ytest),\n",
    "      \"Score Test Ridge : %.4f\\n\" % lm_ridge.score(Xtests, ytest),\n",
    "      \"Score Test Lasso : %.4f\\n\" %  lm_lasso.score(Xtests, ytest))"
   ]
  },
  {
   "cell_type": "markdown",
   "metadata": {},
   "source": [
    "Chequeo p values (las tres nuevas columnas de eph y subte tienen p > 5%)"
   ]
  },
  {
   "cell_type": "code",
   "execution_count": 70,
   "metadata": {},
   "outputs": [
    {
     "name": "stderr",
     "output_type": "stream",
     "text": [
      "/opt/anaconda3/lib/python3.7/site-packages/numpy/core/fromnumeric.py:2495: FutureWarning: Method .ptp is deprecated and will be removed in a future version. Use numpy.ptp instead.\n",
      "  return ptp(axis=axis, out=out, **kwargs)\n"
     ]
    },
    {
     "data": {
      "image/png": "[encoded data removed]",
      "text/plain": [
       "<Figure size 432x288 with 1 Axes>"
      ]
     },
     "metadata": {
      "needs_background": "light"
     },
     "output_type": "display_data"
    },
    {
     "name": "stdout",
     "output_type": "stream",
     "text": [
      "EMC: 223260.49152432542\n",
      "                            OLS Regression Results                            \n",
      "==============================================================================\n",
      "Dep. Variable:                 usd_m2   R-squared:                       0.471\n",
      "Model:                            OLS   Adj. R-squared:                  0.469\n",
      "Method:                 Least Squares   F-statistic:                     194.1\n",
      "Date:                Mon, 04 May 2020   Prob (F-statistic):               0.00\n",
      "Time:                        14:11:54   Log-Likelihood:                -54721.\n",
      "No. Observations:                7222   AIC:                         1.095e+05\n",
      "Df Residuals:                    7188   BIC:                         1.097e+05\n",
      "Df Model:                          33                                         \n",
      "Covariance Type:            nonrobust                                         \n",
      "============================================================================================\n",
      "                               coef    std err          t      P>|t|      [0.025      0.975]\n",
      "--------------------------------------------------------------------------------------------\n",
      "const                     1199.0821    241.793      4.959      0.000     725.096    1673.068\n",
      "barrio_Barrio Norte        711.4483     42.606     16.698      0.000     627.928     794.969\n",
      "barrio_Belgrano            780.9150     22.359     34.927      0.000     737.085     824.745\n",
      "barrio_Boca               -371.5075     76.823     -4.836      0.000    -522.103    -220.912\n",
      "barrio_Caballito           325.8518     38.025      8.570      0.000     251.313     400.391\n",
      "barrio_Coghlan             472.0012     50.335      9.377      0.000     373.330     570.673\n",
      "barrio_Colegiales          461.4136     54.610      8.449      0.000     354.362     568.465\n",
      "barrio_Congreso           -216.9165     59.202     -3.664      0.000    -332.970    -100.863\n",
      "barrio_ConstituciÃ³n      -210.8741     57.048     -3.696      0.000    -322.704     -99.044\n",
      "barrio_Las CaÃ±itas       1055.8099     76.859     13.737      0.000     905.144    1206.475\n",
      "barrio_Mataderos          -287.9343     52.479     -5.487      0.000    -390.809    -185.060\n",
      "barrio_NuÃ±ez              619.4009     50.981     12.150      0.000     519.463     719.339\n",
      "barrio_Palermo             753.7616     41.034     18.369      0.000     673.322     834.201\n",
      "barrio_Parque Avellaneda  -374.2576    111.117     -3.368      0.001    -592.079    -156.436\n",
      "barrio_Pompeya            -464.0732     97.365     -4.766      0.000    -654.936    -273.210\n",
      "barrio_Puerto Madero      1421.5085    197.749      7.188      0.000    1033.862    1809.155\n",
      "barrio_Recoleta            738.9447     45.257     16.328      0.000     650.227     827.662\n",
      "barrio_Retiro              583.5917     66.860      8.729      0.000     452.527     714.656\n",
      "barrio_Saavedra            349.0409     37.879      9.215      0.000     274.787     423.295\n",
      "barrio_Villa Crespo        315.9162     32.599      9.691      0.000     252.012     379.821\n",
      "barrio_Villa Lugano       -527.1815     68.002     -7.752      0.000    -660.485    -393.878\n",
      "barrio_Villa Ortuzar       357.9595     87.739      4.080      0.000     185.965     529.954\n",
      "barrio_Villa Soldati      -861.6969    158.480     -5.437      0.000   -1172.364    -551.030\n",
      "barrio_Villa Urquiza       407.0123     25.999     15.655      0.000     356.048     457.977\n",
      "tipo_apartment             279.3109     20.079     13.910      0.000     239.950     318.672\n",
      "tipo_house                -148.9888     31.473     -4.734      0.000    -210.685     -87.293\n",
      "antig_estreno              383.2853     80.250      4.776      0.000     225.972     540.599\n",
      "antig_promedio             268.1584     77.629      3.454      0.001     115.982     420.335\n",
      "en_suite                    95.1602     16.703      5.697      0.000      62.417     127.903\n",
      "cocheras                   161.3308     14.902     10.826      0.000     132.118     190.543\n",
      "piletas                    242.1239     19.285     12.555      0.000     204.320     279.928\n",
      "iprom                      -35.3780     31.407     -1.126      0.260     -96.945      26.189\n",
      "imax                        56.2605     36.236      1.553      0.121     -14.772     127.293\n",
      "dist_subte                   3.2738      6.381      0.513      0.608      -9.235      15.782\n",
      "==============================================================================\n",
      "Omnibus:                       45.885   Durbin-Watson:                   1.637\n",
      "Prob(Omnibus):                  0.000   Jarque-Bera (JB):               49.185\n",
      "Skew:                           0.164   Prob(JB):                     2.09e-11\n",
      "Kurtosis:                       3.236   Cond. No.                         401.\n",
      "==============================================================================\n",
      "\n",
      "Warnings:\n",
      "[1] Standard Errors assume that the covariance matrix of the errors is correctly specified.\n"
     ]
    }
   ],
   "source": [
    "X = df[['barrio_Barrio Norte', 'barrio_Belgrano', 'barrio_Boca',\n",
    "       'barrio_Caballito', 'barrio_Coghlan', 'barrio_Colegiales',\n",
    "       'barrio_Congreso', 'barrio_ConstituciÃ³n', 'barrio_Las CaÃ±itas',\n",
    "        'barrio_Mataderos','barrio_NuÃ±ez', 'barrio_Palermo',\n",
    "       'barrio_Parque Avellaneda', 'barrio_Pompeya',\n",
    "       'barrio_Puerto Madero', 'barrio_Recoleta', 'barrio_Retiro',\n",
    "       'barrio_Saavedra','barrio_Villa Crespo',\n",
    "        'barrio_Villa Lugano', 'barrio_Villa Ortuzar', 'barrio_Villa Soldati',\n",
    "       'barrio_Villa Urquiza','tipo_apartment','tipo_house','antig_estreno',\n",
    "        'antig_promedio','en_suite','cocheras','piletas',\n",
    "        'iprom','imax','dist_subte']]\n",
    "y = df['usd_m2']\n",
    "# Tenemos que agregar explícitamente a una constante:\n",
    "\n",
    "\n",
    "X = sm.add_constant(X)\n",
    "\n",
    "model = sm.OLS(y, X).fit()\n",
    "predictions = model.predict(X)\n",
    "\n",
    "# Graficamos los resultados\n",
    "plt.plot(y,y, '-.', c='grey')\n",
    "plt.scatter(predictions, y, s=30, c='g', marker='+', zorder=10)\n",
    "plt.xlabel(\"Predicciones\")\n",
    "plt.ylabel(\"Valores reales\")\n",
    "plt.show()\n",
    "\n",
    "# Imprimimos el MSE y un resumen del modelo\n",
    "print (\"EMC:\", mean_squared_error(y, predictions))\n",
    "print (model.summary())"
   ]
  },
  {
   "cell_type": "markdown",
   "metadata": {},
   "source": [
    "## Modelo definitivo + proyecciones"
   ]
  },
  {
   "cell_type": "code",
   "execution_count": 71,
   "metadata": {},
   "outputs": [
    {
     "name": "stdout",
     "output_type": "stream",
     "text": [
      "RMSE: 467.2824114265242\n",
      "R2: 0.477816510680488\n"
     ]
    }
   ],
   "source": [
    "X = df[['barrio_Barrio Norte', 'barrio_Belgrano', 'barrio_Boca',\n",
    "       'barrio_Caballito', 'barrio_Coghlan', 'barrio_Colegiales',\n",
    "       'barrio_Congreso', 'barrio_ConstituciÃ³n', 'barrio_Las CaÃ±itas',\n",
    "        'barrio_Mataderos','barrio_NuÃ±ez', 'barrio_Palermo',\n",
    "       'barrio_Parque Avellaneda', 'barrio_Pompeya',\n",
    "       'barrio_Puerto Madero', 'barrio_Recoleta', 'barrio_Retiro',\n",
    "       'barrio_Saavedra','barrio_Villa Crespo',\n",
    "        'barrio_Villa Lugano', 'barrio_Villa Ortuzar', 'barrio_Villa Soldati',\n",
    "       'barrio_Villa Urquiza','tipo_apartment','tipo_house','antig_estreno','antig_promedio','en_suite','cocheras','piletas']]\n",
    "y = df['usd_m2']\n",
    "\n",
    "Xtrain, Xtest, ytrain, ytest = train_test_split(X, y, test_size=0.25, random_state=1)\n",
    "stdscaler = preprocessing.StandardScaler()\n",
    "Xtrains = stdscaler.fit_transform(Xtrain)\n",
    "Xtests = stdscaler.transform(Xtest)\n",
    "\n",
    "lm_ridge =  linear_model.RidgeCV(alphas=[0.5, 1, 10],cv=5, normalize=False) #Instanciacion\n",
    "modelo_2 = lm_ridge.fit(Xtrains, ytrain)   #Entrenamiento\n",
    "ypred_modelo_2=lm_ridge.predict(Xtests)   #Prediccion con el set de testeo\n",
    "\n",
    "#Metricas\n",
    "print ('RMSE:', np.sqrt(metrics.mean_squared_error(ytest, ypred_modelo_2)))\n",
    "print ('R2:', metrics.r2_score(ytest, ypred_modelo_2))"
   ]
  },
  {
   "cell_type": "code",
   "execution_count": 72,
   "metadata": {},
   "outputs": [],
   "source": [
    "df_proy = df[['barrio_Barrio Norte', 'barrio_Belgrano', 'barrio_Boca',\n",
    "       'barrio_Caballito', 'barrio_Coghlan', 'barrio_Colegiales',\n",
    "       'barrio_Congreso', 'barrio_ConstituciÃ³n', 'barrio_Las CaÃ±itas',\n",
    "        'barrio_Mataderos','barrio_NuÃ±ez', 'barrio_Palermo',\n",
    "       'barrio_Parque Avellaneda', 'barrio_Pompeya',\n",
    "       'barrio_Puerto Madero', 'barrio_Recoleta', 'barrio_Retiro',\n",
    "       'barrio_Saavedra','barrio_Villa Crespo',\n",
    "        'barrio_Villa Lugano', 'barrio_Villa Ortuzar', 'barrio_Villa Soldati',\n",
    "       'barrio_Villa Urquiza','tipo_apartment','tipo_house','antig_estreno','antig_promedio','en_suite','cocheras','piletas','usd_m2']].sample(100)\n",
    "\n",
    "X_proy=df_proy[['barrio_Barrio Norte', 'barrio_Belgrano', 'barrio_Boca',\n",
    "       'barrio_Caballito', 'barrio_Coghlan', 'barrio_Colegiales',\n",
    "       'barrio_Congreso', 'barrio_ConstituciÃ³n', 'barrio_Las CaÃ±itas',\n",
    "        'barrio_Mataderos','barrio_NuÃ±ez', 'barrio_Palermo',\n",
    "       'barrio_Parque Avellaneda', 'barrio_Pompeya',\n",
    "       'barrio_Puerto Madero', 'barrio_Recoleta', 'barrio_Retiro',\n",
    "       'barrio_Saavedra','barrio_Villa Crespo',\n",
    "        'barrio_Villa Lugano', 'barrio_Villa Ortuzar', 'barrio_Villa Soldati',\n",
    "       'barrio_Villa Urquiza','tipo_apartment','tipo_house','antig_estreno','antig_promedio','en_suite','cocheras','piletas']]\n",
    "y_proy = df_proy['usd_m2']\n",
    "\n",
    "#Xtrain, Xtest, ytrain, ytest = train_test_split(X_sample, y_sample, test_size=0.5, random_state=1)\n",
    "stdscaler = preprocessing.StandardScaler()\n",
    "Xtrains = stdscaler.fit_transform(X_proy)\n",
    "#Xtests = stdscaler.transform(Xtest)\n",
    "\n",
    "y_proyecciones=lm_ridge.predict(X_proy)"
   ]
  },
  {
   "cell_type": "code",
   "execution_count": 73,
   "metadata": {},
   "outputs": [],
   "source": [
    "y_proyecciones = list (y_proyecciones)\n",
    "y_proy = list(y_proy)"
   ]
  },
  {
   "cell_type": "code",
   "execution_count": 74,
   "metadata": {},
   "outputs": [],
   "source": [
    "diferencias=[]\n",
    "for i in range(len(y_proyecciones)):\n",
    "    dif=y_proyecciones[i]-y_proy[i]\n",
    "    diferencias.append(dif)\n",
    "df_proy['inversiones']=diferencias\n",
    "df_proy.sort_values(['inversiones'], ascending = False,inplace=True)"
   ]
  },
  {
   "cell_type": "code",
   "execution_count": 77,
   "metadata": {},
   "outputs": [
    {
     "data": {
      "text/html": [
       "<div>\n",
       "<style scoped>\n",
       "    .dataframe tbody tr th:only-of-type {\n",
       "        vertical-align: middle;\n",
       "    }\n",
       "\n",
       "    .dataframe tbody tr th {\n",
       "        vertical-align: top;\n",
       "    }\n",
       "\n",
       "    .dataframe thead th {\n",
       "        text-align: right;\n",
       "    }\n",
       "</style>\n",
       "<table border=\"1\" class=\"dataframe\">\n",
       "  <thead>\n",
       "    <tr style=\"text-align: right;\">\n",
       "      <th></th>\n",
       "      <th>barrio_Barrio Norte</th>\n",
       "      <th>barrio_Belgrano</th>\n",
       "      <th>barrio_Boca</th>\n",
       "      <th>barrio_Caballito</th>\n",
       "      <th>barrio_Coghlan</th>\n",
       "      <th>barrio_Colegiales</th>\n",
       "      <th>barrio_Congreso</th>\n",
       "      <th>barrio_ConstituciÃ³n</th>\n",
       "      <th>barrio_Las CaÃ±itas</th>\n",
       "      <th>barrio_Mataderos</th>\n",
       "      <th>...</th>\n",
       "      <th>barrio_Villa Urquiza</th>\n",
       "      <th>tipo_apartment</th>\n",
       "      <th>tipo_house</th>\n",
       "      <th>antig_estreno</th>\n",
       "      <th>antig_promedio</th>\n",
       "      <th>en_suite</th>\n",
       "      <th>cocheras</th>\n",
       "      <th>piletas</th>\n",
       "      <th>usd_m2</th>\n",
       "      <th>inversiones</th>\n",
       "    </tr>\n",
       "  </thead>\n",
       "  <tbody>\n",
       "    <tr>\n",
       "      <td>2107</td>\n",
       "      <td>0</td>\n",
       "      <td>0</td>\n",
       "      <td>0</td>\n",
       "      <td>0</td>\n",
       "      <td>0</td>\n",
       "      <td>0</td>\n",
       "      <td>0</td>\n",
       "      <td>0</td>\n",
       "      <td>0</td>\n",
       "      <td>0</td>\n",
       "      <td>...</td>\n",
       "      <td>0</td>\n",
       "      <td>1</td>\n",
       "      <td>0</td>\n",
       "      <td>0</td>\n",
       "      <td>1</td>\n",
       "      <td>0.0</td>\n",
       "      <td>0.0</td>\n",
       "      <td>0.0</td>\n",
       "      <td>1091.228893</td>\n",
       "      <td>1331.202589</td>\n",
       "    </tr>\n",
       "    <tr>\n",
       "      <td>1634</td>\n",
       "      <td>0</td>\n",
       "      <td>0</td>\n",
       "      <td>0</td>\n",
       "      <td>0</td>\n",
       "      <td>0</td>\n",
       "      <td>0</td>\n",
       "      <td>0</td>\n",
       "      <td>0</td>\n",
       "      <td>0</td>\n",
       "      <td>0</td>\n",
       "      <td>...</td>\n",
       "      <td>0</td>\n",
       "      <td>1</td>\n",
       "      <td>0</td>\n",
       "      <td>0</td>\n",
       "      <td>1</td>\n",
       "      <td>0.0</td>\n",
       "      <td>0.0</td>\n",
       "      <td>0.0</td>\n",
       "      <td>1140.350877</td>\n",
       "      <td>1282.080605</td>\n",
       "    </tr>\n",
       "    <tr>\n",
       "      <td>7141</td>\n",
       "      <td>0</td>\n",
       "      <td>0</td>\n",
       "      <td>0</td>\n",
       "      <td>0</td>\n",
       "      <td>0</td>\n",
       "      <td>0</td>\n",
       "      <td>0</td>\n",
       "      <td>0</td>\n",
       "      <td>0</td>\n",
       "      <td>0</td>\n",
       "      <td>...</td>\n",
       "      <td>0</td>\n",
       "      <td>1</td>\n",
       "      <td>0</td>\n",
       "      <td>0</td>\n",
       "      <td>1</td>\n",
       "      <td>0.0</td>\n",
       "      <td>0.0</td>\n",
       "      <td>0.0</td>\n",
       "      <td>1193.076923</td>\n",
       "      <td>1183.677840</td>\n",
       "    </tr>\n",
       "    <tr>\n",
       "      <td>2214</td>\n",
       "      <td>0</td>\n",
       "      <td>0</td>\n",
       "      <td>0</td>\n",
       "      <td>0</td>\n",
       "      <td>0</td>\n",
       "      <td>0</td>\n",
       "      <td>0</td>\n",
       "      <td>0</td>\n",
       "      <td>0</td>\n",
       "      <td>0</td>\n",
       "      <td>...</td>\n",
       "      <td>0</td>\n",
       "      <td>0</td>\n",
       "      <td>0</td>\n",
       "      <td>0</td>\n",
       "      <td>1</td>\n",
       "      <td>0.0</td>\n",
       "      <td>0.0</td>\n",
       "      <td>0.0</td>\n",
       "      <td>1155.279503</td>\n",
       "      <td>1178.488962</td>\n",
       "    </tr>\n",
       "    <tr>\n",
       "      <td>6321</td>\n",
       "      <td>0</td>\n",
       "      <td>0</td>\n",
       "      <td>1</td>\n",
       "      <td>0</td>\n",
       "      <td>0</td>\n",
       "      <td>0</td>\n",
       "      <td>0</td>\n",
       "      <td>0</td>\n",
       "      <td>0</td>\n",
       "      <td>0</td>\n",
       "      <td>...</td>\n",
       "      <td>0</td>\n",
       "      <td>0</td>\n",
       "      <td>0</td>\n",
       "      <td>0</td>\n",
       "      <td>1</td>\n",
       "      <td>0.0</td>\n",
       "      <td>0.0</td>\n",
       "      <td>0.0</td>\n",
       "      <td>1136.363636</td>\n",
       "      <td>1169.020433</td>\n",
       "    </tr>\n",
       "    <tr>\n",
       "      <td>...</td>\n",
       "      <td>...</td>\n",
       "      <td>...</td>\n",
       "      <td>...</td>\n",
       "      <td>...</td>\n",
       "      <td>...</td>\n",
       "      <td>...</td>\n",
       "      <td>...</td>\n",
       "      <td>...</td>\n",
       "      <td>...</td>\n",
       "      <td>...</td>\n",
       "      <td>...</td>\n",
       "      <td>...</td>\n",
       "      <td>...</td>\n",
       "      <td>...</td>\n",
       "      <td>...</td>\n",
       "      <td>...</td>\n",
       "      <td>...</td>\n",
       "      <td>...</td>\n",
       "      <td>...</td>\n",
       "      <td>...</td>\n",
       "      <td>...</td>\n",
       "    </tr>\n",
       "    <tr>\n",
       "      <td>4388</td>\n",
       "      <td>0</td>\n",
       "      <td>0</td>\n",
       "      <td>0</td>\n",
       "      <td>0</td>\n",
       "      <td>0</td>\n",
       "      <td>0</td>\n",
       "      <td>0</td>\n",
       "      <td>0</td>\n",
       "      <td>0</td>\n",
       "      <td>0</td>\n",
       "      <td>...</td>\n",
       "      <td>0</td>\n",
       "      <td>1</td>\n",
       "      <td>0</td>\n",
       "      <td>0</td>\n",
       "      <td>1</td>\n",
       "      <td>0.0</td>\n",
       "      <td>0.0</td>\n",
       "      <td>0.0</td>\n",
       "      <td>2921.568627</td>\n",
       "      <td>-499.137146</td>\n",
       "    </tr>\n",
       "    <tr>\n",
       "      <td>6907</td>\n",
       "      <td>0</td>\n",
       "      <td>0</td>\n",
       "      <td>0</td>\n",
       "      <td>0</td>\n",
       "      <td>0</td>\n",
       "      <td>0</td>\n",
       "      <td>1</td>\n",
       "      <td>0</td>\n",
       "      <td>0</td>\n",
       "      <td>0</td>\n",
       "      <td>...</td>\n",
       "      <td>0</td>\n",
       "      <td>1</td>\n",
       "      <td>0</td>\n",
       "      <td>1</td>\n",
       "      <td>0</td>\n",
       "      <td>0.0</td>\n",
       "      <td>1.0</td>\n",
       "      <td>1.0</td>\n",
       "      <td>3122.600000</td>\n",
       "      <td>-549.976641</td>\n",
       "    </tr>\n",
       "    <tr>\n",
       "      <td>3304</td>\n",
       "      <td>0</td>\n",
       "      <td>0</td>\n",
       "      <td>0</td>\n",
       "      <td>0</td>\n",
       "      <td>0</td>\n",
       "      <td>0</td>\n",
       "      <td>0</td>\n",
       "      <td>0</td>\n",
       "      <td>0</td>\n",
       "      <td>0</td>\n",
       "      <td>...</td>\n",
       "      <td>0</td>\n",
       "      <td>1</td>\n",
       "      <td>0</td>\n",
       "      <td>0</td>\n",
       "      <td>1</td>\n",
       "      <td>0.0</td>\n",
       "      <td>0.0</td>\n",
       "      <td>0.0</td>\n",
       "      <td>3145.833333</td>\n",
       "      <td>-723.401852</td>\n",
       "    </tr>\n",
       "    <tr>\n",
       "      <td>4592</td>\n",
       "      <td>0</td>\n",
       "      <td>0</td>\n",
       "      <td>0</td>\n",
       "      <td>0</td>\n",
       "      <td>0</td>\n",
       "      <td>0</td>\n",
       "      <td>0</td>\n",
       "      <td>0</td>\n",
       "      <td>0</td>\n",
       "      <td>0</td>\n",
       "      <td>...</td>\n",
       "      <td>0</td>\n",
       "      <td>1</td>\n",
       "      <td>0</td>\n",
       "      <td>0</td>\n",
       "      <td>1</td>\n",
       "      <td>1.0</td>\n",
       "      <td>1.0</td>\n",
       "      <td>0.0</td>\n",
       "      <td>3828.828829</td>\n",
       "      <td>-1123.492228</td>\n",
       "    </tr>\n",
       "    <tr>\n",
       "      <td>3723</td>\n",
       "      <td>0</td>\n",
       "      <td>0</td>\n",
       "      <td>0</td>\n",
       "      <td>0</td>\n",
       "      <td>0</td>\n",
       "      <td>1</td>\n",
       "      <td>0</td>\n",
       "      <td>0</td>\n",
       "      <td>0</td>\n",
       "      <td>0</td>\n",
       "      <td>...</td>\n",
       "      <td>0</td>\n",
       "      <td>0</td>\n",
       "      <td>0</td>\n",
       "      <td>0</td>\n",
       "      <td>1</td>\n",
       "      <td>1.0</td>\n",
       "      <td>1.0</td>\n",
       "      <td>0.0</td>\n",
       "      <td>3798.076923</td>\n",
       "      <td>-1303.616150</td>\n",
       "    </tr>\n",
       "  </tbody>\n",
       "</table>\n",
       "<p>100 rows × 32 columns</p>\n",
       "</div>"
      ],
      "text/plain": [
       "      barrio_Barrio Norte  barrio_Belgrano  barrio_Boca  barrio_Caballito  \\\n",
       "2107                    0                0            0                 0   \n",
       "1634                    0                0            0                 0   \n",
       "7141                    0                0            0                 0   \n",
       "2214                    0                0            0                 0   \n",
       "6321                    0                0            1                 0   \n",
       "...                   ...              ...          ...               ...   \n",
       "4388                    0                0            0                 0   \n",
       "6907                    0                0            0                 0   \n",
       "3304                    0                0            0                 0   \n",
       "4592                    0                0            0                 0   \n",
       "3723                    0                0            0                 0   \n",
       "\n",
       "      barrio_Coghlan  barrio_Colegiales  barrio_Congreso  \\\n",
       "2107               0                  0                0   \n",
       "1634               0                  0                0   \n",
       "7141               0                  0                0   \n",
       "2214               0                  0                0   \n",
       "6321               0                  0                0   \n",
       "...              ...                ...              ...   \n",
       "4388               0                  0                0   \n",
       "6907               0                  0                1   \n",
       "3304               0                  0                0   \n",
       "4592               0                  0                0   \n",
       "3723               0                  1                0   \n",
       "\n",
       "      barrio_ConstituciÃ³n  barrio_Las CaÃ±itas  barrio_Mataderos  ...  \\\n",
       "2107                     0                    0                 0  ...   \n",
       "1634                     0                    0                 0  ...   \n",
       "7141                     0                    0                 0  ...   \n",
       "2214                     0                    0                 0  ...   \n",
       "6321                     0                    0                 0  ...   \n",
       "...                    ...                  ...               ...  ...   \n",
       "4388                     0                    0                 0  ...   \n",
       "6907                     0                    0                 0  ...   \n",
       "3304                     0                    0                 0  ...   \n",
       "4592                     0                    0                 0  ...   \n",
       "3723                     0                    0                 0  ...   \n",
       "\n",
       "      barrio_Villa Urquiza  tipo_apartment  tipo_house  antig_estreno  \\\n",
       "2107                     0               1           0              0   \n",
       "1634                     0               1           0              0   \n",
       "7141                     0               1           0              0   \n",
       "2214                     0               0           0              0   \n",
       "6321                     0               0           0              0   \n",
       "...                    ...             ...         ...            ...   \n",
       "4388                     0               1           0              0   \n",
       "6907                     0               1           0              1   \n",
       "3304                     0               1           0              0   \n",
       "4592                     0               1           0              0   \n",
       "3723                     0               0           0              0   \n",
       "\n",
       "      antig_promedio  en_suite  cocheras  piletas       usd_m2  inversiones  \n",
       "2107               1       0.0       0.0      0.0  1091.228893  1331.202589  \n",
       "1634               1       0.0       0.0      0.0  1140.350877  1282.080605  \n",
       "7141               1       0.0       0.0      0.0  1193.076923  1183.677840  \n",
       "2214               1       0.0       0.0      0.0  1155.279503  1178.488962  \n",
       "6321               1       0.0       0.0      0.0  1136.363636  1169.020433  \n",
       "...              ...       ...       ...      ...          ...          ...  \n",
       "4388               1       0.0       0.0      0.0  2921.568627  -499.137146  \n",
       "6907               0       0.0       1.0      1.0  3122.600000  -549.976641  \n",
       "3304               1       0.0       0.0      0.0  3145.833333  -723.401852  \n",
       "4592               1       1.0       1.0      0.0  3828.828829 -1123.492228  \n",
       "3723               1       1.0       1.0      0.0  3798.076923 -1303.616150  \n",
       "\n",
       "[100 rows x 32 columns]"
      ]
     },
     "execution_count": 77,
     "metadata": {},
     "output_type": "execute_result"
    }
   ],
   "source": [
    "proy_final=df_proy.head(100)\n",
    "df_proy.head(100)"
   ]
  },
  {
   "cell_type": "code",
   "execution_count": 86,
   "metadata": {},
   "outputs": [
    {
     "data": {
      "text/plain": [
       "(array([0.00231344, 0.00694032, 0.01696524, 0.03547277, 0.06169177,\n",
       "        0.11490091, 0.1442045 , 0.16271203, 0.20049824, 0.26681689,\n",
       "        0.32696636, 0.37631977, 0.35781224, 0.39251386, 0.39097156,\n",
       "        0.40253877, 0.37709092, 0.32311062, 0.27375721, 0.25524968,\n",
       "        0.20358283, 0.19972709, 0.1704235 , 0.12878156, 0.09485109,\n",
       "        0.07711471, 0.06477635, 0.05012456, 0.04781112, 0.04318424]),\n",
       " array([-2.71350921, -2.53395098, -2.35439276, -2.17483453, -1.99527631,\n",
       "        -1.81571808, -1.63615986, -1.45660163, -1.27704341, -1.09748518,\n",
       "        -0.91792696, -0.73836873, -0.55881051, -0.37925228, -0.19969406,\n",
       "        -0.02013583,  0.15942239,  0.33898062,  0.51853885,  0.69809707,\n",
       "         0.8776553 ,  1.05721352,  1.23677175,  1.41632997,  1.5958882 ,\n",
       "         1.77544642,  1.95500465,  2.13456287,  2.3141211 ,  2.49367932,\n",
       "         2.67323755]),\n",
       " <a list of 30 Patch objects>)"
      ]
     },
     "execution_count": 86,
     "metadata": {},
     "output_type": "execute_result"
    },
    {
     "data": {
      "image/png": "[encoded data removed]",
      "text/plain": [
       "<Figure size 432x288 with 1 Axes>"
      ]
     },
     "metadata": {
      "needs_background": "light"
     },
     "output_type": "display_data"
    }
   ],
   "source": [
    "xs=df['usd_m2']\n",
    "mean = np.mean(xs)\n",
    "std = np.std(xs)\n",
    "xs = [(x - mean) / std for x in xs]\n",
    "plt.hist(xs,bins=30,density=True, label='usd_m2')"
   ]
  },
  {
   "cell_type": "code",
   "execution_count": 78,
   "metadata": {},
   "outputs": [],
   "source": [
    "proy_final.to_excel('proy_final.xlsx')"
   ]
  },
  {
   "cell_type": "code",
   "execution_count": 83,
   "metadata": {},
   "outputs": [
    {
     "data": {
      "text/plain": [
       "2263.0831112127753"
      ]
     },
     "execution_count": 83,
     "metadata": {},
     "output_type": "execute_result"
    }
   ],
   "source": [
    "df['usd_m2'].mean()"
   ]
  },
  {
   "cell_type": "code",
   "execution_count": 84,
   "metadata": {},
   "outputs": [
    {
     "data": {
      "text/plain": [
       "649.7878029036556"
      ]
     },
     "execution_count": 84,
     "metadata": {},
     "output_type": "execute_result"
    }
   ],
   "source": [
    "df['usd_m2'].std()"
   ]
  }
 ],
 "metadata": {
  "kernelspec": {
   "display_name": "Python 3",
   "language": "python",
   "name": "python3"
  },
  "language_info": {
   "codemirror_mode": {
    "name": "ipython",
    "version": 3
   },
   "file_extension": ".py",
   "mimetype": "text/x-python",
   "name": "python",
   "nbconvert_exporter": "python",
   "pygments_lexer": "ipython3",
   "version": "3.7.4"
  }
 },
 "nbformat": 4,
 "nbformat_minor": 4
}
